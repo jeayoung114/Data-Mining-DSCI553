{
 "cells": [
  {
   "cell_type": "code",
   "execution_count": 49,
   "metadata": {},
   "outputs": [],
   "source": [
    "import pyspark\n",
    "import numpy as np\n",
    "import pandas as pd\n",
    "import time\n",
    "input_file = \"test_review.json\""
   ]
  },
  {
   "cell_type": "code",
   "execution_count": 50,
   "metadata": {},
   "outputs": [
    {
     "ename": "ValueError",
     "evalue": "Cannot run multiple SparkContexts at once; existing SparkContext(app=wordCount, master=local[*]) created by __init__ at <ipython-input-2-aecc052e16f5>:4 ",
     "output_type": "error",
     "traceback": [
      "\u001b[0;31m---------------------------------------------------------------------------\u001b[0m",
      "\u001b[0;31mValueError\u001b[0m                                Traceback (most recent call last)",
      "\u001b[0;32m<ipython-input-50-aecc052e16f5>\u001b[0m in \u001b[0;36m<module>\u001b[0;34m\u001b[0m\n\u001b[1;32m      2\u001b[0m \u001b[0;32mimport\u001b[0m \u001b[0mos\u001b[0m\u001b[0;34m\u001b[0m\u001b[0;34m\u001b[0m\u001b[0m\n\u001b[1;32m      3\u001b[0m \u001b[0;34m\u001b[0m\u001b[0m\n\u001b[0;32m----> 4\u001b[0;31m \u001b[0msc\u001b[0m \u001b[0;34m=\u001b[0m \u001b[0mSparkContext\u001b[0m\u001b[0;34m(\u001b[0m\u001b[0;34m'local[*]'\u001b[0m\u001b[0;34m,\u001b[0m \u001b[0;34m'wordCount'\u001b[0m\u001b[0;34m)\u001b[0m\u001b[0;34m\u001b[0m\u001b[0;34m\u001b[0m\u001b[0m\n\u001b[0m",
      "\u001b[0;32m~/.local/lib/python3.7/site-packages/pyspark/context.py\u001b[0m in \u001b[0;36m__init__\u001b[0;34m(self, master, appName, sparkHome, pyFiles, environment, batchSize, serializer, conf, gateway, jsc, profiler_cls)\u001b[0m\n\u001b[1;32m    131\u001b[0m                     \" note this option will be removed in Spark 3.0\")\n\u001b[1;32m    132\u001b[0m \u001b[0;34m\u001b[0m\u001b[0m\n\u001b[0;32m--> 133\u001b[0;31m         \u001b[0mSparkContext\u001b[0m\u001b[0;34m.\u001b[0m\u001b[0m_ensure_initialized\u001b[0m\u001b[0;34m(\u001b[0m\u001b[0mself\u001b[0m\u001b[0;34m,\u001b[0m \u001b[0mgateway\u001b[0m\u001b[0;34m=\u001b[0m\u001b[0mgateway\u001b[0m\u001b[0;34m,\u001b[0m \u001b[0mconf\u001b[0m\u001b[0;34m=\u001b[0m\u001b[0mconf\u001b[0m\u001b[0;34m)\u001b[0m\u001b[0;34m\u001b[0m\u001b[0;34m\u001b[0m\u001b[0m\n\u001b[0m\u001b[1;32m    134\u001b[0m         \u001b[0;32mtry\u001b[0m\u001b[0;34m:\u001b[0m\u001b[0;34m\u001b[0m\u001b[0;34m\u001b[0m\u001b[0m\n\u001b[1;32m    135\u001b[0m             self._do_init(master, appName, sparkHome, pyFiles, environment, batchSize, serializer,\n",
      "\u001b[0;32m~/.local/lib/python3.7/site-packages/pyspark/context.py\u001b[0m in \u001b[0;36m_ensure_initialized\u001b[0;34m(cls, instance, gateway, conf)\u001b[0m\n\u001b[1;32m    330\u001b[0m                         \u001b[0;34m\" created by %s at %s:%s \"\u001b[0m\u001b[0;34m\u001b[0m\u001b[0;34m\u001b[0m\u001b[0m\n\u001b[1;32m    331\u001b[0m                         % (currentAppName, currentMaster,\n\u001b[0;32m--> 332\u001b[0;31m                             callsite.function, callsite.file, callsite.linenum))\n\u001b[0m\u001b[1;32m    333\u001b[0m                 \u001b[0;32melse\u001b[0m\u001b[0;34m:\u001b[0m\u001b[0;34m\u001b[0m\u001b[0;34m\u001b[0m\u001b[0m\n\u001b[1;32m    334\u001b[0m                     \u001b[0mSparkContext\u001b[0m\u001b[0;34m.\u001b[0m\u001b[0m_active_spark_context\u001b[0m \u001b[0;34m=\u001b[0m \u001b[0minstance\u001b[0m\u001b[0;34m\u001b[0m\u001b[0;34m\u001b[0m\u001b[0m\n",
      "\u001b[0;31mValueError\u001b[0m: Cannot run multiple SparkContexts at once; existing SparkContext(app=wordCount, master=local[*]) created by __init__ at <ipython-input-2-aecc052e16f5>:4 "
     ]
    }
   ],
   "source": [
    "from pyspark import SparkContext\n",
    "import os\n",
    "\n",
    "sc = SparkContext('local[*]', 'wordCount')"
   ]
  },
  {
   "cell_type": "markdown",
   "metadata": {},
   "source": [
    "# 1 a"
   ]
  },
  {
   "cell_type": "code",
   "execution_count": 51,
   "metadata": {},
   "outputs": [],
   "source": [
    "textRDD = sc.textFile(input_file,5)"
   ]
  },
  {
   "cell_type": "code",
   "execution_count": 52,
   "metadata": {},
   "outputs": [],
   "source": [
    "tmp = textRDD.map(lambda line : (1,1)).reduceByKey(lambda a, b : a+b).collect()\n"
   ]
  },
  {
   "cell_type": "code",
   "execution_count": 53,
   "metadata": {},
   "outputs": [
    {
     "data": {
      "text/plain": [
       "34"
      ]
     },
     "execution_count": 53,
     "metadata": {},
     "output_type": "execute_result"
    }
   ],
   "source": [
    "n_review = tmp[0][1]\n",
    "n_review"
   ]
  },
  {
   "cell_type": "code",
   "execution_count": 54,
   "metadata": {
    "scrolled": true
   },
   "outputs": [
    {
     "name": "stdout",
     "output_type": "stream",
     "text": [
      "hG7b0MtEbXx5QzbzE6C_VA\n",
      "hG7b0MtEbXx5QzbzE6C_VA\n",
      "hG7b0MtEbXx5QzbzE6C_VA\n",
      "hG7b0MtEbXx5QzbzE6C_VA\n",
      "hG7b0MtEbXx5QzbzE6C_VA\n",
      "yXQM5uF2jS6es16SJzNHfg\n",
      "n6-Gk65cPZL6Uz8qRm3NYw\n",
      "dacAIZ6fTM6mqwW5uxkskg\n",
      "ssoyf2_x0EQMed6fgHeMyQ\n",
      "w31MKYsNFMrjhWxxAb5wIw\n",
      "jlu4CztcSxrKx56ba1a5AQ\n",
      "d6xvYpyzcfbF_AZ8vMB7QA\n",
      "sG_h0dIzTKWa3Q6fmb4u-g\n",
      "nMeCE5-xsdleyxYuNZ_7rA\n",
      "FIk4lQQu1eTe2EpzQ4xhBA\n",
      "-mA3-1mN4JIEkqOtdbNXCQ\n",
      "GYNnVehQeXjty0xH7-6Fhw\n",
      "bAhqAPoWaZYcyYi7bs024Q\n",
      "TpyOT5E16YASd7EWjLQlrw\n",
      "NJlxGtouq06hhC7sS2ECYw\n",
      "86J5DwcFk4f4In1Vxe2TvA\n",
      "JSrP-dUmLlwZiI7Dp3PQ2A\n",
      "6Fz_nus_OG4gar721OKgZA\n",
      "_N7Ndn29bpll_961oPeEfw\n",
      "DzZ7piLBF-WsJxqosfJgtA\n",
      "5JVY32_bmTBfIGpCCsnAfw\n",
      "3CJUJILq7CLHk_9OrvpvQg\n",
      "2mxBNBeFrgDszqGS5tdEHA\n",
      "8NwU4TRsD3S6gIfBqFzDMQ\n",
      "vXZeHaLvdfCPATz5BDavow\n",
      "vDr8hBNYigiY70fk1kF5iQ\n",
      "TTRVdTXKcq-xn6-1IWbwEw\n",
      "q3GeSW9dWN9r_ocqFkhrvg\n",
      "yxyRt-zoh_A6PMThX-h9Vw\n"
     ]
    }
   ],
   "source": [
    "import json\n",
    "import pandas as pd\n",
    "count = 0\n",
    "with open(input_file) as reader:\n",
    "    for line in reader:\n",
    "        data = json.loads(line)\n",
    "        print(data[\"user_id\"])\n"
   ]
  },
  {
   "cell_type": "markdown",
   "metadata": {},
   "source": [
    "# 1 b"
   ]
  },
  {
   "cell_type": "code",
   "execution_count": 55,
   "metadata": {},
   "outputs": [],
   "source": [
    "textRDD = sc.textFile(input_file)"
   ]
  },
  {
   "cell_type": "code",
   "execution_count": 56,
   "metadata": {},
   "outputs": [],
   "source": [
    "import json\n",
    "def ftn1(line):\n",
    "    year=int(json.loads(line)[\"date\"][0:4])\n",
    "    if year == 2018:\n",
    "        return 1\n",
    "    else:\n",
    "        return 0\n",
    "tmp = textRDD.map(lambda line : (1,ftn1(line))).reduceByKey(lambda a, b : a+b).collect()\n",
    "n_review_2018 = tmp[0][1]"
   ]
  },
  {
   "cell_type": "code",
   "execution_count": 57,
   "metadata": {},
   "outputs": [
    {
     "data": {
      "text/plain": [
       "3"
      ]
     },
     "execution_count": 57,
     "metadata": {},
     "output_type": "execute_result"
    }
   ],
   "source": [
    "n_review_2018"
   ]
  },
  {
   "cell_type": "markdown",
   "metadata": {},
   "source": [
    "# 1 c"
   ]
  },
  {
   "cell_type": "code",
   "execution_count": 58,
   "metadata": {},
   "outputs": [],
   "source": [
    "textRDD = sc.textFile(input_file)\n",
    "import json\n",
    "tmp = textRDD.map(lambda line : (json.loads(line)[\"user_id\"],1)).reduceByKey(lambda a, b : 1).map(lambda x:(1,1)).reduceByKey(lambda a,b : a+b).collect()\n",
    "n_user = tmp[0][1]"
   ]
  },
  {
   "cell_type": "code",
   "execution_count": 59,
   "metadata": {},
   "outputs": [
    {
     "data": {
      "text/plain": [
       "30"
      ]
     },
     "execution_count": 59,
     "metadata": {},
     "output_type": "execute_result"
    }
   ],
   "source": [
    "n_user"
   ]
  },
  {
   "cell_type": "markdown",
   "metadata": {},
   "source": [
    "# 1 d"
   ]
  },
  {
   "cell_type": "code",
   "execution_count": 60,
   "metadata": {},
   "outputs": [],
   "source": [
    "textRDD = sc.textFile(input_file)\n",
    "import json\n",
    "tmp = textRDD.map(lambda line : (json.loads(line)[\"user_id\"],1)).reduceByKey(lambda a,b : a+b)\\\n",
    ".map(lambda x : (x[1],x[0])).sortByKey(False).take(10)\n",
    "\n"
   ]
  },
  {
   "cell_type": "code",
   "execution_count": 61,
   "metadata": {
    "scrolled": true
   },
   "outputs": [
    {
     "data": {
      "text/plain": [
       "[(5, 'hG7b0MtEbXx5QzbzE6C_VA'),\n",
       " (1, 'n6-Gk65cPZL6Uz8qRm3NYw'),\n",
       " (1, 'dacAIZ6fTM6mqwW5uxkskg'),\n",
       " (1, 'ssoyf2_x0EQMed6fgHeMyQ'),\n",
       " (1, 'w31MKYsNFMrjhWxxAb5wIw'),\n",
       " (1, 'jlu4CztcSxrKx56ba1a5AQ'),\n",
       " (1, 'd6xvYpyzcfbF_AZ8vMB7QA'),\n",
       " (1, 'nMeCE5-xsdleyxYuNZ_7rA'),\n",
       " (1, 'FIk4lQQu1eTe2EpzQ4xhBA'),\n",
       " (1, 'NJlxGtouq06hhC7sS2ECYw')]"
      ]
     },
     "execution_count": 61,
     "metadata": {},
     "output_type": "execute_result"
    }
   ],
   "source": [
    "tmp"
   ]
  },
  {
   "cell_type": "code",
   "execution_count": 62,
   "metadata": {},
   "outputs": [],
   "source": [
    "tmp_dict = {}\n",
    "for i in tmp:\n",
    "    tmp_dict[i[1]]=i[0]"
   ]
  },
  {
   "cell_type": "code",
   "execution_count": null,
   "metadata": {},
   "outputs": [],
   "source": []
  },
  {
   "cell_type": "code",
   "execution_count": 63,
   "metadata": {
    "scrolled": true
   },
   "outputs": [],
   "source": [
    "tmp_dict = sorted(tmp_dict.items(), key=lambda x: (-x[1], x[0]))"
   ]
  },
  {
   "cell_type": "code",
   "execution_count": 64,
   "metadata": {},
   "outputs": [],
   "source": [
    "top10_user = []\n",
    "for i in tmp_dict:\n",
    "    top10_user.append([i[0],i[1]])"
   ]
  },
  {
   "cell_type": "code",
   "execution_count": 65,
   "metadata": {
    "scrolled": true
   },
   "outputs": [
    {
     "data": {
      "text/plain": [
       "[['hG7b0MtEbXx5QzbzE6C_VA', 5],\n",
       " ['FIk4lQQu1eTe2EpzQ4xhBA', 1],\n",
       " ['NJlxGtouq06hhC7sS2ECYw', 1],\n",
       " ['d6xvYpyzcfbF_AZ8vMB7QA', 1],\n",
       " ['dacAIZ6fTM6mqwW5uxkskg', 1],\n",
       " ['jlu4CztcSxrKx56ba1a5AQ', 1],\n",
       " ['n6-Gk65cPZL6Uz8qRm3NYw', 1],\n",
       " ['nMeCE5-xsdleyxYuNZ_7rA', 1],\n",
       " ['ssoyf2_x0EQMed6fgHeMyQ', 1],\n",
       " ['w31MKYsNFMrjhWxxAb5wIw', 1]]"
      ]
     },
     "execution_count": 65,
     "metadata": {},
     "output_type": "execute_result"
    }
   ],
   "source": [
    "top10_user"
   ]
  },
  {
   "cell_type": "markdown",
   "metadata": {},
   "source": [
    "# 1 e"
   ]
  },
  {
   "cell_type": "code",
   "execution_count": 66,
   "metadata": {},
   "outputs": [],
   "source": [
    "textRDD = sc.textFile(input_file)\n",
    "import json\n",
    "tmp = textRDD.map(lambda line : (json.loads(line)[\"business_id\"],1)).reduceByKey(lambda a,b : a)\\\n",
    ".map(lambda x : (1,1)).reduceByKey(lambda a,b : a+b).collect()\n",
    "\n"
   ]
  },
  {
   "cell_type": "code",
   "execution_count": 67,
   "metadata": {},
   "outputs": [],
   "source": [
    "n_business = tmp[0][1]"
   ]
  },
  {
   "cell_type": "markdown",
   "metadata": {},
   "source": [
    "# 1 f"
   ]
  },
  {
   "cell_type": "code",
   "execution_count": 68,
   "metadata": {},
   "outputs": [],
   "source": [
    "textRDD = sc.textFile(input_file)\n",
    "import json\n",
    "tmp = textRDD.map(lambda line : (json.loads(line)[\"business_id\"],1)).reduceByKey(lambda a,b : a+b)\\\n",
    ".map(lambda x : (x[1],x[0])).sortByKey(False).take(10)"
   ]
  },
  {
   "cell_type": "code",
   "execution_count": 69,
   "metadata": {
    "scrolled": true
   },
   "outputs": [
    {
     "data": {
      "text/plain": [
       "[(6, 'ujmEBvifdJM6h6RLv4wQIg'),\n",
       " (1, 'b1b1eb3uo-w561D0ZfCEiQ'),\n",
       " (1, 'eU_713ec6fTGNO4BegRaww'),\n",
       " (1, '3fw2X5bZYeW9xCz_zGhOHg'),\n",
       " (1, 'zvO-PJCpNk4fgAVUnExYAA'),\n",
       " (1, 'b2jN2mm9Wf3RcrZCgfo1cg'),\n",
       " (1, '8mIrX_LrOnAqWsB5JrOojQ'),\n",
       " (1, 'FxLfqxdYPA6Z85PFKaqLrg'),\n",
       " (1, 'LUN6swQYa4xJKaM_UEUOEw'),\n",
       " (1, 'YvrylyuWgbP90RgMqZQVnQ')]"
      ]
     },
     "execution_count": 69,
     "metadata": {},
     "output_type": "execute_result"
    }
   ],
   "source": [
    "tmp"
   ]
  },
  {
   "cell_type": "code",
   "execution_count": 70,
   "metadata": {},
   "outputs": [],
   "source": [
    "tmp_dict = {}\n",
    "for i in tmp:\n",
    "    tmp_dict[i[1]]=i[0]"
   ]
  },
  {
   "cell_type": "code",
   "execution_count": null,
   "metadata": {},
   "outputs": [],
   "source": []
  },
  {
   "cell_type": "code",
   "execution_count": 71,
   "metadata": {
    "scrolled": true
   },
   "outputs": [],
   "source": [
    "tmp_dict = sorted(tmp_dict.items(), key=lambda x: (-x[1], x[0]))"
   ]
  },
  {
   "cell_type": "code",
   "execution_count": 72,
   "metadata": {},
   "outputs": [],
   "source": [
    "top10_business = []\n",
    "for i in tmp_dict:\n",
    "    top10_business.append([i[0],i[1]])"
   ]
  },
  {
   "cell_type": "code",
   "execution_count": 73,
   "metadata": {
    "scrolled": true
   },
   "outputs": [
    {
     "data": {
      "text/plain": [
       "[['ujmEBvifdJM6h6RLv4wQIg', 6],\n",
       " ['3fw2X5bZYeW9xCz_zGhOHg', 1],\n",
       " ['8mIrX_LrOnAqWsB5JrOojQ', 1],\n",
       " ['FxLfqxdYPA6Z85PFKaqLrg', 1],\n",
       " ['LUN6swQYa4xJKaM_UEUOEw', 1],\n",
       " ['YvrylyuWgbP90RgMqZQVnQ', 1],\n",
       " ['b1b1eb3uo-w561D0ZfCEiQ', 1],\n",
       " ['b2jN2mm9Wf3RcrZCgfo1cg', 1],\n",
       " ['eU_713ec6fTGNO4BegRaww', 1],\n",
       " ['zvO-PJCpNk4fgAVUnExYAA', 1]]"
      ]
     },
     "execution_count": 73,
     "metadata": {},
     "output_type": "execute_result"
    }
   ],
   "source": [
    "top10_business"
   ]
  },
  {
   "cell_type": "code",
   "execution_count": null,
   "metadata": {},
   "outputs": [],
   "source": []
  },
  {
   "cell_type": "code",
   "execution_count": null,
   "metadata": {},
   "outputs": [],
   "source": []
  },
  {
   "cell_type": "code",
   "execution_count": null,
   "metadata": {},
   "outputs": [],
   "source": []
  },
  {
   "cell_type": "code",
   "execution_count": 26,
   "metadata": {},
   "outputs": [],
   "source": [
    "answer_json = {}\n",
    "answer_json[\"n_review\"] = n_review\n",
    "answer_json[\"n_review_2018\"] = n_review_2018\n",
    "answer_json[\"n_user\"] = n_user\n",
    "answer_json[\"top10_user\"] = top10_user\n",
    "answer_json[\"n_business\"] = n_business\n",
    "answer_json[\"top10_business\"] = top10_business"
   ]
  },
  {
   "cell_type": "code",
   "execution_count": null,
   "metadata": {},
   "outputs": [],
   "source": []
  },
  {
   "cell_type": "code",
   "execution_count": 27,
   "metadata": {},
   "outputs": [
    {
     "data": {
      "text/plain": [
       "{'n_review': 34,\n",
       " 'n_review_2018': 3,\n",
       " 'n_user': 30,\n",
       " 'top10_user': [['hG7b0MtEbXx5QzbzE6C_VA', 5],\n",
       "  ['FIk4lQQu1eTe2EpzQ4xhBA', 1],\n",
       "  ['NJlxGtouq06hhC7sS2ECYw', 1],\n",
       "  ['d6xvYpyzcfbF_AZ8vMB7QA', 1],\n",
       "  ['dacAIZ6fTM6mqwW5uxkskg', 1],\n",
       "  ['jlu4CztcSxrKx56ba1a5AQ', 1],\n",
       "  ['n6-Gk65cPZL6Uz8qRm3NYw', 1],\n",
       "  ['nMeCE5-xsdleyxYuNZ_7rA', 1],\n",
       "  ['ssoyf2_x0EQMed6fgHeMyQ', 1],\n",
       "  ['w31MKYsNFMrjhWxxAb5wIw', 1]],\n",
       " 'n_business': 29,\n",
       " 'top10_business': [['ujmEBvifdJM6h6RLv4wQIg', 6],\n",
       "  ['3fw2X5bZYeW9xCz_zGhOHg', 1],\n",
       "  ['8mIrX_LrOnAqWsB5JrOojQ', 1],\n",
       "  ['FxLfqxdYPA6Z85PFKaqLrg', 1],\n",
       "  ['LUN6swQYa4xJKaM_UEUOEw', 1],\n",
       "  ['YvrylyuWgbP90RgMqZQVnQ', 1],\n",
       "  ['b1b1eb3uo-w561D0ZfCEiQ', 1],\n",
       "  ['b2jN2mm9Wf3RcrZCgfo1cg', 1],\n",
       "  ['eU_713ec6fTGNO4BegRaww', 1],\n",
       "  ['zvO-PJCpNk4fgAVUnExYAA', 1]]}"
      ]
     },
     "execution_count": 27,
     "metadata": {},
     "output_type": "execute_result"
    }
   ],
   "source": [
    "answer_json"
   ]
  },
  {
   "cell_type": "code",
   "execution_count": null,
   "metadata": {},
   "outputs": [],
   "source": []
  },
  {
   "cell_type": "code",
   "execution_count": 12,
   "metadata": {},
   "outputs": [
    {
     "name": "stdout",
     "output_type": "stream",
     "text": [
      "{'review_id': 'Q1sbwvVQXV2734tPgoKj4Q', 'user_id': 'hG7b0MtEbXx5QzbzE6C_VA', 'business_id': 'ujmEBvifdJM6h6RLv4wQIg', 'stars': 1.0, 'useful': 6, 'funny': 1, 'cool': 0, 'text': 'Total bill for this horrible service? Over $8Gs. These crooks actually had the nerve to charge us $69 for 3 pills. I checked online the pills can be had for 19 cents EACH! Avoid Hospital ERs at all costs.', 'date': '2013-05-07 04:34:36'}\n"
     ]
    }
   ],
   "source": [
    "import json\n",
    "import pandas as pd\n",
    "count = 0\n",
    "with open(input_file) as reader:\n",
    "    for line in reader:\n",
    "        data = json.loads(line)\n",
    "        print(data)\n",
    "        break\n",
    "        "
   ]
  },
  {
   "cell_type": "code",
   "execution_count": 11,
   "metadata": {},
   "outputs": [
    {
     "name": "stdout",
     "output_type": "stream",
     "text": [
      "{'business_id': '1SWheh84yJXfytovILXOAQ', 'name': 'Arizona Biltmore Golf Club', 'address': '2818 E Camino Acequia Drive', 'city': 'Phoenix', 'state': 'AZ', 'postal_code': '85016', 'latitude': 33.5221425, 'longitude': -112.0184807, 'stars': 3.0, 'review_count': 5, 'is_open': 0, 'attributes': {'GoodForKids': 'False'}, 'categories': 'Golf, Active Life', 'hours': None}\n"
     ]
    }
   ],
   "source": [
    "import json\n",
    "import pandas as pd\n",
    "count = 0\n",
    "with open(\"business.json\") as reader:\n",
    "    for line in reader:\n",
    "        data = json.loads(line)\n",
    "        print(data)\n",
    "        break\n",
    "        "
   ]
  },
  {
   "cell_type": "code",
   "execution_count": 10,
   "metadata": {},
   "outputs": [
    {
     "name": "stdout",
     "output_type": "stream",
     "text": [
      "192609\n"
     ]
    }
   ],
   "source": [
    "import json\n",
    "import pandas as pd\n",
    "count = 0\n",
    "with open(\"business.json\") as reader:\n",
    "    for line in reader:\n",
    "        data = json.loads(line)\n",
    "        count+=1\n",
    "print(count)"
   ]
  },
  {
   "cell_type": "code",
   "execution_count": null,
   "metadata": {},
   "outputs": [],
   "source": [
    "tmp = textRDD.map(lambda line : (json.loads(line)[\"business_id\"],(json.loads(line)[\"stars\"]))"
   ]
  },
  {
   "cell_type": "code",
   "execution_count": null,
   "metadata": {},
   "outputs": [],
   "source": [
    "textRDD2 = sc.textFile(\"business.json\")\n",
    "import json\n",
    "tmp2 = textRDD2.map(lambda line : (json.loads(line)[\"business_id\"],(json.loads(line)[\"city\"]))\n",
    "                    \n",
    "                    \n",
    "joined = kvRdd1.join(kvRdd2)"
   ]
  },
  {
   "cell_type": "code",
   "execution_count": 45,
   "metadata": {},
   "outputs": [],
   "source": [
    "import json\n",
    "sample1RDD = sc.textFile(\"sample1.txt\")\n",
    "sample2RDD = sc.textFile(\"sample2.txt\")\n",
    "\n",
    "tmp = sample1RDD.map(lambda line : (json.loads(line)[\"business_id\"],(json.loads(line)[\"stars\"])))\n",
    "tmp2 = sample2RDD.map(lambda line : (json.loads(line)[\"business_id\"],(json.loads(line)[\"city\"])))\n",
    "\n",
    "joined = tmp.join(tmp2)\n",
    "\n",
    "joined = joined.map(lambda line :(line[1][1],(1,line[1][0])))\n",
    "\n",
    "def ftn1(first,second):\n",
    "    return (first[0]+second[0], first[1]+second[1])\n",
    "joined = joined.reduceByKey(ftn1)"
   ]
  },
  {
   "cell_type": "code",
   "execution_count": 46,
   "metadata": {},
   "outputs": [
    {
     "data": {
      "text/plain": [
       "[('Seoul', (1, 5.0)), ('LA', (2, 6.0))]"
      ]
     },
     "execution_count": 46,
     "metadata": {},
     "output_type": "execute_result"
    }
   ],
   "source": [
    "joined.collect()"
   ]
  },
  {
   "cell_type": "code",
   "execution_count": 78,
   "metadata": {},
   "outputs": [
    {
     "data": {
      "text/plain": [
       "[(5.0, 'Seoul'), (3.0, 'LA')]"
      ]
     },
     "execution_count": 78,
     "metadata": {},
     "output_type": "execute_result"
    }
   ],
   "source": [
    "def ftn2(x):\n",
    "    return (x[1][1]/x[1][0], x[0])\n",
    "\n",
    "joined.map(lambda x : ftn2(x)).sortByKey(False).take(10)"
   ]
  },
  {
   "cell_type": "code",
   "execution_count": 77,
   "metadata": {},
   "outputs": [
    {
     "data": {
      "text/plain": [
       "[(5.0, 'Seoul'), (3.0, 'LA')]"
      ]
     },
     "execution_count": 77,
     "metadata": {},
     "output_type": "execute_result"
    }
   ],
   "source": []
  }
 ],
 "metadata": {
  "kernelspec": {
   "display_name": "Python 3",
   "language": "python",
   "name": "python3"
  },
  "language_info": {
   "codemirror_mode": {
    "name": "ipython",
    "version": 3
   },
   "file_extension": ".py",
   "mimetype": "text/x-python",
   "name": "python",
   "nbconvert_exporter": "python",
   "pygments_lexer": "ipython3",
   "version": "3.7.7"
  }
 },
 "nbformat": 4,
 "nbformat_minor": 4
}
