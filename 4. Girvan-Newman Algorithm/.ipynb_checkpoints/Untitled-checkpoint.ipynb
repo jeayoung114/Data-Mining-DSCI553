{
 "cells": [
  {
   "cell_type": "code",
   "execution_count": 1,
   "metadata": {},
   "outputs": [],
   "source": [
    "import pandas as pd\n",
    "data= pd.read_csv(\"ub_sample_data.csv\")"
   ]
  },
  {
   "cell_type": "code",
   "execution_count": 2,
   "metadata": {},
   "outputs": [
    {
     "data": {
      "text/html": [
       "<div>\n",
       "<style scoped>\n",
       "    .dataframe tbody tr th:only-of-type {\n",
       "        vertical-align: middle;\n",
       "    }\n",
       "\n",
       "    .dataframe tbody tr th {\n",
       "        vertical-align: top;\n",
       "    }\n",
       "\n",
       "    .dataframe thead th {\n",
       "        text-align: right;\n",
       "    }\n",
       "</style>\n",
       "<table border=\"1\" class=\"dataframe\">\n",
       "  <thead>\n",
       "    <tr style=\"text-align: right;\">\n",
       "      <th></th>\n",
       "      <th>user_id</th>\n",
       "      <th>business_id</th>\n",
       "    </tr>\n",
       "  </thead>\n",
       "  <tbody>\n",
       "    <tr>\n",
       "      <th>0</th>\n",
       "      <td>39FT2Ui8KUXwmUt6hnwy-g</td>\n",
       "      <td>RJSFI7mxGnkIIKiJCufLkg</td>\n",
       "    </tr>\n",
       "    <tr>\n",
       "      <th>1</th>\n",
       "      <td>39FT2Ui8KUXwmUt6hnwy-g</td>\n",
       "      <td>fThrN4tfupIGetkrz18JOg</td>\n",
       "    </tr>\n",
       "    <tr>\n",
       "      <th>2</th>\n",
       "      <td>39FT2Ui8KUXwmUt6hnwy-g</td>\n",
       "      <td>mvLdgkwBzqllHWHwS-ZZgQ</td>\n",
       "    </tr>\n",
       "    <tr>\n",
       "      <th>3</th>\n",
       "      <td>39FT2Ui8KUXwmUt6hnwy-g</td>\n",
       "      <td>uW6UHfONAmm8QttPkbMewQ</td>\n",
       "    </tr>\n",
       "    <tr>\n",
       "      <th>4</th>\n",
       "      <td>39FT2Ui8KUXwmUt6hnwy-g</td>\n",
       "      <td>T70pMoTP008qYLsIvFCXdQ</td>\n",
       "    </tr>\n",
       "    <tr>\n",
       "      <th>...</th>\n",
       "      <td>...</td>\n",
       "      <td>...</td>\n",
       "    </tr>\n",
       "    <tr>\n",
       "      <th>38643</th>\n",
       "      <td>HRNysSGlkeq-Fjud0k0Y4Q</td>\n",
       "      <td>9O-PjeUlUGx0h1URxeSTCg</td>\n",
       "    </tr>\n",
       "    <tr>\n",
       "      <th>38644</th>\n",
       "      <td>LrMmtYJa6XmHG37LJNFtPw</td>\n",
       "      <td>b0Vs2Lqo6Ojj2FeldciyKg</td>\n",
       "    </tr>\n",
       "    <tr>\n",
       "      <th>38645</th>\n",
       "      <td>w3KeqaHfpQKVbnv6utSlXg</td>\n",
       "      <td>YuChxb7oNlJWxeZrrdUiNQ</td>\n",
       "    </tr>\n",
       "    <tr>\n",
       "      <th>38646</th>\n",
       "      <td>91OffSkHKrOu9x76iD7Teg</td>\n",
       "      <td>aSGCy2a57p-vdY8pHVu5Kg</td>\n",
       "    </tr>\n",
       "    <tr>\n",
       "      <th>38647</th>\n",
       "      <td>aD263WOD4RShoqgvVhcKqQ</td>\n",
       "      <td>rZUK25ho_Wmgv5tRAs7LMA</td>\n",
       "    </tr>\n",
       "  </tbody>\n",
       "</table>\n",
       "<p>38648 rows × 2 columns</p>\n",
       "</div>"
      ],
      "text/plain": [
       "                      user_id             business_id\n",
       "0      39FT2Ui8KUXwmUt6hnwy-g  RJSFI7mxGnkIIKiJCufLkg\n",
       "1      39FT2Ui8KUXwmUt6hnwy-g  fThrN4tfupIGetkrz18JOg\n",
       "2      39FT2Ui8KUXwmUt6hnwy-g  mvLdgkwBzqllHWHwS-ZZgQ\n",
       "3      39FT2Ui8KUXwmUt6hnwy-g  uW6UHfONAmm8QttPkbMewQ\n",
       "4      39FT2Ui8KUXwmUt6hnwy-g  T70pMoTP008qYLsIvFCXdQ\n",
       "...                       ...                     ...\n",
       "38643  HRNysSGlkeq-Fjud0k0Y4Q  9O-PjeUlUGx0h1URxeSTCg\n",
       "38644  LrMmtYJa6XmHG37LJNFtPw  b0Vs2Lqo6Ojj2FeldciyKg\n",
       "38645  w3KeqaHfpQKVbnv6utSlXg  YuChxb7oNlJWxeZrrdUiNQ\n",
       "38646  91OffSkHKrOu9x76iD7Teg  aSGCy2a57p-vdY8pHVu5Kg\n",
       "38647  aD263WOD4RShoqgvVhcKqQ  rZUK25ho_Wmgv5tRAs7LMA\n",
       "\n",
       "[38648 rows x 2 columns]"
      ]
     },
     "execution_count": 2,
     "metadata": {},
     "output_type": "execute_result"
    }
   ],
   "source": [
    "data"
   ]
  },
  {
   "cell_type": "code",
   "execution_count": 1,
   "metadata": {},
   "outputs": [],
   "source": [
    "from functools import reduce\n",
    "from pyspark.sql.functions import col, lit, when\n",
    "from pyspark.sql import SQLContext\n",
    "# from graphframes import *\n",
    "from graphframes import graphframe\n",
    "\n",
    "\n",
    "import numpy as np\n",
    "import pandas as pd\n",
    "import time\n",
    "import math\n",
    "import datetime\n",
    "import sys\n",
    "from pyspark import SparkContext \n",
    "from sklearn import preprocessing\n",
    "from itertools import combinations\n",
    "import warnings\n",
    "import os\n",
    "warnings.filterwarnings(action='ignore')\n",
    "import copy\n",
    "\n"
   ]
  },
  {
   "cell_type": "code",
   "execution_count": 2,
   "metadata": {},
   "outputs": [],
   "source": [
    "sc = SparkContext('local[*]', 'task1')"
   ]
  },
  {
   "cell_type": "code",
   "execution_count": 3,
   "metadata": {},
   "outputs": [],
   "source": [
    "def bfs(root, node_list, edge_list):\n",
    "    ## remove root\n",
    "#     print(\"Root :\", root)\n",
    "#     print(\"node_list : \", node_list)\n",
    "#     print(\"edge_list : \", edge_list)\n",
    "\n",
    "    node_list_tmp = copy.deepcopy(node_list)\n",
    "    edge_list_tmp = []\n",
    "    node_list_tmp.remove(root)\n",
    "    \n",
    "    node_distance_dict = {}\n",
    "    node_distance_dict[0] = {root:[]}\n",
    "    \n",
    "    ## build tree\n",
    "    count = 0\n",
    "    stop = False\n",
    "    while stop == False:\n",
    "        count+=1\n",
    "        tmp = {}\n",
    "        rem_list = []\n",
    "        for edge in edge_list:\n",
    "            if edge[0] in node_distance_dict[count-1].keys():\n",
    "                if edge[1] in node_list_tmp:\n",
    "                    tmp[edge[1]] = tmp.get(edge[1], [])+[edge[0]]\n",
    "                    rem_list.append(edge[1])\n",
    "                    edge_list_tmp.append(edge)\n",
    "            elif edge[1] in node_distance_dict[count-1].keys():\n",
    "                if edge[0] in node_list_tmp:\n",
    "                    tmp[edge[0]] = tmp.get(edge[0], [])+[edge[1]]\n",
    "                    rem_list.append(edge[0])\n",
    "                    edge_list_tmp.append(edge)\n",
    "#             print(tmp)\n",
    "#             print(node_list)\n",
    "            \n",
    "            \n",
    "        rem_list = set(rem_list)\n",
    "        node_list_tmp = set(node_list_tmp).difference(rem_list)\n",
    "           \n",
    "    \n",
    "        if tmp == {}:\n",
    "            stop = True\n",
    "        else:\n",
    "            node_distance_dict[count] = tmp\n",
    "\n",
    "            \n",
    "    return node_distance_dict, edge_list_tmp\n",
    "\n",
    "\n",
    "\n",
    "def edge_credit(tree, edge_list_tmp):\n",
    "    edge_credit_dict = {}\n",
    "    node_credit_dict = {}\n",
    "    dist_from_root = max(tree.keys())\n",
    "    \n",
    "    while dist_from_root>=0:\n",
    "        ## leaf node\n",
    "        if dist_from_root == max(tree.keys()):\n",
    "            for leaf_node in tree[dist_from_root].keys():\n",
    "                node_credit_dict[leaf_node] = 1\n",
    "                if len(tree[dist_from_root][leaf_node]) != 0:\n",
    "                    edge_credit = 1/len(tree[dist_from_root][leaf_node])\n",
    "                else:\n",
    "                    edge_credit = 0\n",
    "                for upper_node in tree[dist_from_root][leaf_node]:\n",
    "                    if (leaf_node, upper_node) in edge_list_tmp:\n",
    "                        edge_credit_dict[(leaf_node, upper_node)] = edge_credit\n",
    "                    if (upper_node, leaf_node) in edge_list_tmp:\n",
    "                        edge_credit_dict[(upper_node, leaf_node)] = edge_credit\n",
    "            dist_from_root -= 1\n",
    "\n",
    "        elif dist_from_root !=0:\n",
    "            for leaf_node in tree[dist_from_root].keys():\n",
    "                node_credit_dict[leaf_node] = 1\n",
    "                for edge in edge_credit_dict.keys():\n",
    "                    if leaf_node in edge:\n",
    "                        node_credit_dict[leaf_node]+= edge_credit_dict[edge]\n",
    "                if len(tree[dist_from_root][leaf_node]) !=0:\n",
    "                    edge_credit = 1/len(tree[dist_from_root][leaf_node]) * node_credit_dict[leaf_node]\n",
    "                else:\n",
    "                    edge_credit = 0\n",
    "                for upper_node in tree[dist_from_root][leaf_node]:\n",
    "                    if (leaf_node, upper_node) in edge_list_tmp:\n",
    "                        edge_credit_dict[(leaf_node, upper_node)] = edge_credit\n",
    "                    if (upper_node, leaf_node) in edge_list_tmp:\n",
    "                        edge_credit_dict[(upper_node, leaf_node)] = edge_credit\n",
    "            dist_from_root -= 1\n",
    "        \n",
    "        elif dist_from_root == 0:\n",
    "            for leaf_node in tree[dist_from_root].keys():\n",
    "                node_credit_dict[leaf_node] = 0\n",
    "                for edge in edge_credit_dict.keys():\n",
    "                    if leaf_node in edge:\n",
    "                        node_credit_dict[leaf_node]+= edge_credit_dict[edge]\n",
    "            dist_from_root -= 1\n",
    "            \n",
    "            \n",
    "                        \n",
    "    return edge_credit_dict, node_credit_dict\n",
    "            \n",
    "    "
   ]
  },
  {
   "cell_type": "code",
   "execution_count": null,
   "metadata": {},
   "outputs": [],
   "source": []
  },
  {
   "cell_type": "code",
   "execution_count": 7,
   "metadata": {
    "scrolled": true
   },
   "outputs": [
    {
     "name": "stdout",
     "output_type": "stream",
     "text": [
      "Duration :  9.924301862716675\n"
     ]
    }
   ],
   "source": [
    "if __name__ == '__main__':\n",
    "    \n",
    "   \n",
    "#     input_file = sys.argv[1]\n",
    "#     output_file = sys.argv[2]\n",
    "    \n",
    "    t = time.time()\n",
    "    n = 30\n",
    "    \n",
    "\n",
    "    \n",
    "    ## RDDs\n",
    "    textRDD = sc.textFile('ub_sample_data.csv', n)\n",
    "    header = textRDD.first()  ## remove header\n",
    "    tmp = textRDD.filter(lambda x: x != header)\n",
    "    \n",
    "    ### users who reviewed equal or greater than 7 businesses\n",
    "    baskets = tmp.map(lambda x: x.split(\",\"))\\\n",
    "        .map(lambda x : (x[0], [x[1]]))\\\n",
    "        .reduceByKey(lambda a,b : a+b)\\\n",
    "        .filter(lambda x : len(x[1])>=7)\n",
    "    \n",
    "    \n",
    "    ## user list\n",
    "    user_list = baskets.map(lambda x : (1,[x[0]]))\\\n",
    "    .reduceByKey(lambda a,b : a+b)\\\n",
    "    .collect()[0][1]\n",
    "    \n",
    "    ## user : [bus1, bus2, ...]\n",
    "    user_basket_dict = {}\n",
    "    for (user, business_list) in baskets.collect():\n",
    "        user_basket_dict[user] = business_list\n",
    "        \n",
    "        \n",
    "    ## candidate edge i.e. candidate pair of users\n",
    "    candi_edge_list = list(combinations(user_list, 2))\n",
    "        \n",
    "    ## edge list i.e. (user1, user2)    \n",
    "    edge_list = sc.parallelize(candi_edge_list, n)\\\n",
    "    .map(lambda x : (x, len(set(user_basket_dict[x[0]]).intersection(set(user_basket_dict[x[1]]))))).filter(lambda x : x[1]>=7).cache()\n",
    "    \n",
    "    ## user list of users who are in edge\n",
    "    user_in_edge_list = list(set(edge_list.map(lambda x : (1,list(x[0]))).reduceByKey(lambda a,b : a+b).collect()[0][1]))\n",
    "    \n",
    "    \n",
    "    edge_list = edge_list.map(lambda x : x[0]).collect()\n",
    "    \n",
    "    user_to_idx = {}\n",
    "    for idx, user in enumerate(user_in_edge_list):\n",
    "        user_to_idx[user] = idx\n",
    "    idx_to_user = {v: k for k, v in user_to_idx.items()}\n",
    "    \n",
    "    user_in_edge_list = [user_to_idx[user] for user in user_in_edge_list]\n",
    "    edge_list = [(user_to_idx[user1],user_to_idx[user2]) for (user1, user2) in edge_list]\n",
    "\n",
    "    \n",
    "    \n",
    "    ### Girvan - Newman Algortihm\n",
    "    # build bfs tree for each node\n",
    "    def Map1(root, node_list, edge_list):\n",
    "        tree, edge_list_tmp = bfs(root, node_list, edge_list)\n",
    "        edge_credit_dict, node_credit_dict = edge_credit(tree, edge_list_tmp)\n",
    "        return list(edge_credit_dict.items())\n",
    "        \n",
    "    edge_betweenness = sc.parallelize(user_in_edge_list, n)\\\n",
    "        .map(lambda x : Map1(x, user_in_edge_list, edge_list))\\\n",
    "        .flatMap(lambda x : x)\\\n",
    "        .reduceByKey(lambda a,b : a+b)\\\n",
    "        .map(lambda x : (tuple(sorted((idx_to_user[x[0][0]], idx_to_user[x[0][1]]))),round(x[1]/2,5)))\\\n",
    "        .collect()\n",
    "    \n",
    "    \n",
    "    edge_betweenness = sorted(edge_betweenness, key = lambda line : (-line[1], line[0][0], line[0][1]))\n",
    "    \n",
    "    \n",
    "    output_file = \"task2_1.txt\"\n",
    "    f = open(output_file, \"w\")\n",
    "    for line in edge_betweenness:\n",
    "        tmp = \"('\"\n",
    "        tmp += line[0][0]\n",
    "        tmp += \"', '\"\n",
    "        tmp += line[0][1]\n",
    "        tmp += \"'),\"\n",
    "        tmp += str(line[1])\n",
    "        \n",
    "        f.write(tmp)\n",
    "        f.write(\"\\n\")\n",
    "        \n",
    "    \n",
    "    print(\"Duration : \", time.time() - t)\n",
    "    \n",
    "    \n",
    "    "
   ]
  },
  {
   "cell_type": "code",
   "execution_count": 5,
   "metadata": {},
   "outputs": [
    {
     "data": {
      "text/plain": [
       "[(('cyuDrrG5eEK-TZI867MUPA', 'l-1cva9rA8_ugLrtSdKAqA'), 4234.0),\n",
       " (('1st2ltGKJ00ZcRsev-Ieew', 'DKolrsBSwMTpTJL22dqJRQ'), 3924.2351190476174),\n",
       " (('1st2ltGKJ00ZcRsev-Ieew', 'HLY9oDcVBH9D25lU4X_V5Q'), 3857.0),\n",
       " (('1st2ltGKJ00ZcRsev-Ieew', 'JM0GL6Dx4EuZ1mprLk5Gyg'), 3731.7648809523826),\n",
       " (('1st2ltGKJ00ZcRsev-Ieew', 'Hv_q_ZnSIoZwdcoH0CyV2Q'), 3724.0),\n",
       " (('HLY9oDcVBH9D25lU4X_V5Q', 'l-1cva9rA8_ugLrtSdKAqA'), 3335.0),\n",
       " (('Hv_q_ZnSIoZwdcoH0CyV2Q', 'l-1cva9rA8_ugLrtSdKAqA'), 3289.0),\n",
       " (('0FVcoJko1kfZCrJRfssfIA', 'DKolrsBSwMTpTJL22dqJRQ'), 2178.9524553571428),\n",
       " (('a48HhwcmjFLApZhiax41IA', 'o-t-i7nbT5N_cmkCXs5oDQ'), 1969.0),\n",
       " (('A-U-K9z9oraMH7eBZW1dOA', 'l-1cva9rA8_ugLrtSdKAqA'), 1898.0),\n",
       " (('cyuDrrG5eEK-TZI867MUPA', 'o-t-i7nbT5N_cmkCXs5oDQ'), 1861.9999999999998),\n",
       " (('39FT2Ui8KUXwmUt6hnwy-g', 'JM0GL6Dx4EuZ1mprLk5Gyg'), 1372.3955853174602),\n",
       " (('JM0GL6Dx4EuZ1mprLk5Gyg', 'KLB3wIYUwKDPMbijIE92vg'), 1273.5344246031746),\n",
       " (('JM0GL6Dx4EuZ1mprLk5Gyg', 'e5kg9bLvlJz-MEUrGjIeVQ'), 1023.6873611111109),\n",
       " (('MtdSCXtmrSxj_uZOJ5ZycQ', 'ay4M5J28kBUf0odOQct0BA'), 789.4146825396824),\n",
       " (('cyuDrrG5eEK-TZI867MUPA', 'pDNeS1nbkKS7mJmhRQJPig'), 780.0),\n",
       " (('A-U-K9z9oraMH7eBZW1dOA', 'pDNeS1nbkKS7mJmhRQJPig'), 764.75),\n",
       " (('DKolrsBSwMTpTJL22dqJRQ', 'JM0GL6Dx4EuZ1mprLk5Gyg'), 712.4053571428572),\n",
       " (('QvLg2kxqHHahxxOlHlEIZw', 'cyuDrrG5eEK-TZI867MUPA'), 624.5),\n",
       " (('A-U-K9z9oraMH7eBZW1dOA', 'QvLg2kxqHHahxxOlHlEIZw'), 612.2500000000001),\n",
       " (('0FVcoJko1kfZCrJRfssfIA', '39FT2Ui8KUXwmUt6hnwy-g'), 603.0885416666666),\n",
       " (('DKolrsBSwMTpTJL22dqJRQ', 'bSUS0YcvS7UelmHvCzNWBA'), 596.6987847222222),\n",
       " (('JM0GL6Dx4EuZ1mprLk5Gyg', 'fLnkI1uHtXEsjtF6KoBHbQ'), 585.151111111111),\n",
       " (('39FT2Ui8KUXwmUt6hnwy-g', 'Uo5dPwoDpYBzOnmUnjxJ6A'), 561.0),\n",
       " (('JM0GL6Dx4EuZ1mprLk5Gyg', 'tekHDsd0fskYG3tqu4sHQw'), 554.4844444444444),\n",
       " (('DKolrsBSwMTpTJL22dqJRQ', '_VTEyUzzH92X3w-IpGaXVA'), 539.0256696428572),\n",
       " (('KLB3wIYUwKDPMbijIE92vg', 'hilL60vuuh06sMxs6Ckkog'), 498.48214285714283),\n",
       " (('0FVcoJko1kfZCrJRfssfIA', 'KLB3wIYUwKDPMbijIE92vg'), 492.4241071428572),\n",
       " (('0FVcoJko1kfZCrJRfssfIA', 'ay4M5J28kBUf0odOQct0BA'), 484.5764880952382),\n",
       " (('JM0GL6Dx4EuZ1mprLk5Gyg', 'MtdSCXtmrSxj_uZOJ5ZycQ'), 478.8116071428573),\n",
       " (('JM0GL6Dx4EuZ1mprLk5Gyg', 'OoyQYSeYNyRVOmdO3tsxYA'), 388.02083333333337),\n",
       " (('0FVcoJko1kfZCrJRfssfIA', 'LcCRMIDz1JgshpPGYfLDcA'), 383.15885416666663),\n",
       " (('JM0GL6Dx4EuZ1mprLk5Gyg', 'hLVq7VSJBHZwqurwWoCmpg'), 376.0),\n",
       " (('0QREkWHGO8-Z_70qx1BIWw', 'LcCRMIDz1JgshpPGYfLDcA'), 372.0),\n",
       " (('7G8w2SnaC-qDVQ7_GqTxMg', 'JM0GL6Dx4EuZ1mprLk5Gyg'), 362.875),\n",
       " (('5DgFmyjW6hkBtXtTMKl4tA', 'JM0GL6Dx4EuZ1mprLk5Gyg'), 357.40694444444443),\n",
       " (('39FT2Ui8KUXwmUt6hnwy-g', 'DKolrsBSwMTpTJL22dqJRQ'), 349.1638888888888),\n",
       " (('IuaAfrkirlfzY3f4PkgSmw', 'JM0GL6Dx4EuZ1mprLk5Gyg'), 344.49999999999994),\n",
       " (('0FVcoJko1kfZCrJRfssfIA', 'OoyQYSeYNyRVOmdO3tsxYA'), 340.64583333333337),\n",
       " (('JM0GL6Dx4EuZ1mprLk5Gyg', 'm1IVpXClMox1VGw5hO2LhQ'), 339.99999999999994),\n",
       " (('DKolrsBSwMTpTJL22dqJRQ', 'bE7Yd0jI_P6g27MWEKKalA'), 329.0426339285715),\n",
       " (('0FVcoJko1kfZCrJRfssfIA', 'Ams0iLRd0AhZZectGKA8fw'), 280.0),\n",
       " (('0FVcoJko1kfZCrJRfssfIA', 'EiwxlbR8fb68lMgEXhcWKA'), 278.0),\n",
       " (('JM0GL6Dx4EuZ1mprLk5Gyg', 'Zk95TMXDx0zMUhYq5u8pxw'), 266.4563888888889),\n",
       " (('4pc_EyanaC3ARh0MZZyouA', 'DKolrsBSwMTpTJL22dqJRQ'), 257.3129464285714),\n",
       " (('MtdSCXtmrSxj_uZOJ5ZycQ', 'e5kg9bLvlJz-MEUrGjIeVQ'), 251.40222222222224),\n",
       " (('MtdSCXtmrSxj_uZOJ5ZycQ', 'kwIhn1_cnQeUaLN0CuWWHw'), 243.17261904761904),\n",
       " (('KLB3wIYUwKDPMbijIE92vg', 'kwIhn1_cnQeUaLN0CuWWHw'), 238.22976190476192),\n",
       " (('LcCRMIDz1JgshpPGYfLDcA', '_VTEyUzzH92X3w-IpGaXVA'), 235.58296130952382),\n",
       " (('JM0GL6Dx4EuZ1mprLk5Gyg', 'dzJDCQ5vubQBJTfYTEmcbg'), 217.35416666666669),\n",
       " (('0FMte0z-repSVWSJ_BaQTg', '0FVcoJko1kfZCrJRfssfIA'), 189.0),\n",
       " (('0FVcoJko1kfZCrJRfssfIA', '7Vfy39A_totC-w70qZi0MA'), 189.0),\n",
       " (('0FVcoJko1kfZCrJRfssfIA', 'BDjiEmXljD2ZHT61Iv9rrQ'), 189.0),\n",
       " (('0FVcoJko1kfZCrJRfssfIA', 'IXD-jdycm7m34b_Nliy82g'), 189.0),\n",
       " (('0FVcoJko1kfZCrJRfssfIA', 'JLv2Dmfj73-I0d9N41tz1A'), 189.0),\n",
       " (('0FVcoJko1kfZCrJRfssfIA', 'KgJdBWS3ReP6TVhYWJRKmg'), 189.0),\n",
       " (('0FVcoJko1kfZCrJRfssfIA', 'TjsBbWAfwxWEXPxaLNv5SQ'), 189.0),\n",
       " (('0FVcoJko1kfZCrJRfssfIA', 'UAB1Zyg6Q0oEpXeYRf5K_g'), 189.0),\n",
       " (('0FVcoJko1kfZCrJRfssfIA', 'XUEwSGOGARxW-3gPiGJKUg'), 189.0),\n",
       " (('0FVcoJko1kfZCrJRfssfIA', 'bbK1mL-AyYCHZncDQ_4RgA'), 189.0),\n",
       " (('0FVcoJko1kfZCrJRfssfIA', 'j8Dts8irvVBwEhEEae_-wA'), 189.0),\n",
       " (('0FVcoJko1kfZCrJRfssfIA', 'ma6206bmu-a_Ja7Iv-yRCw'), 189.0),\n",
       " (('0FVcoJko1kfZCrJRfssfIA', 'p9942XebvxZ9ubHm4SXmMQ'), 189.0),\n",
       " (('0FVcoJko1kfZCrJRfssfIA', 'sO6iNKgv_ToVfof-aQWgXg'), 189.0),\n",
       " (('0FVcoJko1kfZCrJRfssfIA', 'voXU5A3FfOcXZ2VNsJ0q4w'), 189.0),\n",
       " (('0FVcoJko1kfZCrJRfssfIA', 'waN6iwcphiVEoCews4f4CA'), 189.0),\n",
       " (('0FVcoJko1kfZCrJRfssfIA', 'yCaDISH0R8e5U376zDWTpQ'), 189.0),\n",
       " (('0KhRPd66BZGHCtsb9mGh_g', 'dzJDCQ5vubQBJTfYTEmcbg'), 189.0),\n",
       " (('0QREkWHGO8-Z_70qx1BIWw', 'kKTcYPz47sCDH1_ylnE4ZQ'), 189.0),\n",
       " (('23o7tyUGlC6FCDVcyqLeFA', 'ay4M5J28kBUf0odOQct0BA'), 189.0),\n",
       " (('2k8OVAPxlXHsA5X6EIoQpQ', 'JM0GL6Dx4EuZ1mprLk5Gyg'), 189.0),\n",
       " (('2xVrxhQJUBmOyG4ML77XKw', 'MtdSCXtmrSxj_uZOJ5ZycQ'), 189.0),\n",
       " (('37HswRimgBEf7_US-c3CDA', 'e5kg9bLvlJz-MEUrGjIeVQ'), 189.0),\n",
       " (('39FT2Ui8KUXwmUt6hnwy-g', '79yaBDbLASfIdB-C2c8DzA'), 189.0),\n",
       " (('39FT2Ui8KUXwmUt6hnwy-g', 'ChshgCKJTdIDg17JKtFuJw'), 189.0),\n",
       " (('39FT2Ui8KUXwmUt6hnwy-g', 'PE8s8ACYABRNANI-T_WmzA'), 189.0),\n",
       " (('39FT2Ui8KUXwmUt6hnwy-g', 'sdLns7062kz3Ur_b8wgeYw'), 189.0),\n",
       " (('5DgFmyjW6hkBtXtTMKl4tA', 'nOTl4aPC4tKHK35T3bNauQ'), 189.0),\n",
       " (('750rhwO7D_Cul7_GtO9Jsg', 'fLnkI1uHtXEsjtF6KoBHbQ'), 189.0),\n",
       " (('7RCz4Ln_FaTvNrdwe251Dg', '9xM8upr_n9jchUDKxqSGHw'), 189.0),\n",
       " (('8oYMqhC5fhqAK_yxRjE7dQ', 'JM0GL6Dx4EuZ1mprLk5Gyg'), 189.0),\n",
       " (('903YwVSoAKyzudc8LH_HMA', 'm1IVpXClMox1VGw5hO2LhQ'), 189.0),\n",
       " (('DKolrsBSwMTpTJL22dqJRQ', 'hd343st7cOIUSfAd5r0U7A'), 189.0),\n",
       " (('DjcRgZ0cJbf6-W2TxvFlBA', 'fLnkI1uHtXEsjtF6KoBHbQ'), 189.0),\n",
       " (('DkLSyxogCcJXY5DbTZ-f2A', 'bSUS0YcvS7UelmHvCzNWBA'), 189.0),\n",
       " (('ELfzWgdf64VBLi5z1ECItw', 'ay4M5J28kBUf0odOQct0BA'), 189.0),\n",
       " (('EY8h9IJimXDNbPXVFpYF3A', 'hilL60vuuh06sMxs6Ckkog'), 189.0),\n",
       " (('H4EQn0rjFuGRgIm6c9NFLg', 'a48HhwcmjFLApZhiax41IA'), 189.0),\n",
       " (('H5Asta4LpiKmRhSjWaogIg', 'a48HhwcmjFLApZhiax41IA'), 189.0),\n",
       " (('HLY9oDcVBH9D25lU4X_V5Q', 'fOut10lknIp64tm3z6UTNg'), 189.0),\n",
       " (('IuaAfrkirlfzY3f4PkgSmw', 'Y0-lLNc2Y7gUGXPzSsMueQ'), 189.0),\n",
       " (('JM0GL6Dx4EuZ1mprLk5Gyg', 'JRqMFKGxx6DnTGZrxwQZaA'), 189.0),\n",
       " (('JM0GL6Dx4EuZ1mprLk5Gyg', 'NlNlyQynkyEU3l7TR3LXdg'), 189.0),\n",
       " (('JM0GL6Dx4EuZ1mprLk5Gyg', 'TZ974xcbw2kqjYxAhDUYVg'), 189.0),\n",
       " (('JM0GL6Dx4EuZ1mprLk5Gyg', 'UYcmGbelzRa0Q6JqzLoguw'), 189.0),\n",
       " (('KBoIRjxSW7OWczv8OS9Bew', 'l-1cva9rA8_ugLrtSdKAqA'), 189.0),\n",
       " (('KLB3wIYUwKDPMbijIE92vg', 'O9pMFJSPg80YVzpMfNikxw'), 189.0),\n",
       " (('KLB3wIYUwKDPMbijIE92vg', 'mnoe2vwouRADn97dTDkw4A'), 189.0),\n",
       " (('LgFDWZTLi1w9OGi5BtKORg', 'cyuDrrG5eEK-TZI867MUPA'), 189.0),\n",
       " (('LiNx18WUre9WFCEQlUhtKA', 'hilL60vuuh06sMxs6Ckkog'), 189.0),\n",
       " (('MtdSCXtmrSxj_uZOJ5ZycQ', 'SsOiVav4V5_NjTl21Lj92w'), 189.0),\n",
       " (('MwpK7PqQX7fgTFM2Pfy61w', 'fLnkI1uHtXEsjtF6KoBHbQ'), 189.0),\n",
       " (('ORJnGXXkS9tQBTNyPQJF9A', 'cyuDrrG5eEK-TZI867MUPA'), 189.0),\n",
       " (('PKEzKWv_FktMm2mGPjwd0Q', 'tekHDsd0fskYG3tqu4sHQw'), 189.0),\n",
       " (('T88y73qdOSutuvzLlhWtqQ', 'bSUS0YcvS7UelmHvCzNWBA'), 189.0),\n",
       " (('Tk_FWXueutKii3f9yJFsdw', 'bE7Yd0jI_P6g27MWEKKalA'), 189.0),\n",
       " (('VdoTNYWuoXo01umgannw8A', 'e5kg9bLvlJz-MEUrGjIeVQ'), 189.0),\n",
       " (('WaAOt_eG0_-yLpG3fI--3g', 'e5kg9bLvlJz-MEUrGjIeVQ'), 189.0),\n",
       " (('XEqQG61fetXhuEV9RPslIA', 'hLVq7VSJBHZwqurwWoCmpg'), 189.0),\n",
       " (('_VTEyUzzH92X3w-IpGaXVA', 'jPcrABeWgWlTPi-E0Op_aA'), 189.0),\n",
       " (('a48HhwcmjFLApZhiax41IA', 'e5sdXDOkCf0sIUAivXVluA'), 189.0),\n",
       " (('e5kg9bLvlJz-MEUrGjIeVQ', 'fcWM-oqjgS94yi1INhZa0g'), 189.0),\n",
       " (('jgoG_hHqnhZvQEoBK0-82w', 'kwIhn1_cnQeUaLN0CuWWHw'), 189.0),\n",
       " (('k24kSTpZHUdEd-QYXLy3fQ', 'pDNeS1nbkKS7mJmhRQJPig'), 189.0),\n",
       " (('kwIhn1_cnQeUaLN0CuWWHw', 'qd16czwFUVHICKF7A4qWsQ'), 189.0),\n",
       " (('tekHDsd0fskYG3tqu4sHQw', 'xrvyW1ruKS0uz9RtFewC0Q'), 189.0),\n",
       " (('9W73B44Iw8WslrTNB2CdCg', 'Uo5dPwoDpYBzOnmUnjxJ6A'), 188.0),\n",
       " (('UmTMCfPlhA6kJLAsLycSfg', 'Uo5dPwoDpYBzOnmUnjxJ6A'), 188.0),\n",
       " (('6YmRpoIuiq8I19Q8dHKTHw', 'a48HhwcmjFLApZhiax41IA'), 187.0),\n",
       " (('BDmxm7aeWFOLT35gSvkmig', 'a48HhwcmjFLApZhiax41IA'), 187.0),\n",
       " (('a48HhwcmjFLApZhiax41IA', 'angEr2YcXmCl20s8WQu32w'), 187.0),\n",
       " (('a48HhwcmjFLApZhiax41IA', 'frQs7y5qa-X1pvAM0sJe1w'), 187.0),\n",
       " (('0FVcoJko1kfZCrJRfssfIA', '97j2wkFU46OOgm6ErRAb7w'), 186.5),\n",
       " (('0FVcoJko1kfZCrJRfssfIA', 'SdXxLZQQnQNUEL1rGMOQ6w'), 186.5),\n",
       " (('2GUjO7NU88cPXpoffYCU8w', 'a48HhwcmjFLApZhiax41IA'), 186.5),\n",
       " (('6xi9tBoZ6r_v41u_XFsSnA', 'a48HhwcmjFLApZhiax41IA'), 186.5),\n",
       " (('4ZQq0ozRs-gXSz1z55iIDw', 'HLY9oDcVBH9D25lU4X_V5Q'), 186.33333333333331),\n",
       " (('HLY9oDcVBH9D25lU4X_V5Q', 'oegRUjhGbP62M18WyAL6pQ'), 186.0),\n",
       " (('KHjroLTG6Ah8LyItTyB2yw', 'LcCRMIDz1JgshpPGYfLDcA'), 186.0),\n",
       " (('LcCRMIDz1JgshpPGYfLDcA', 'tAcY4S3vIuNlAoRlCcz5VA'), 186.0),\n",
       " (('XrRLaAeV20MRwdSIGjj2SQ', 'a48HhwcmjFLApZhiax41IA'), 186.0),\n",
       " (('cIbbfJEGLB3B-c8Po4AL5g', 'e5kg9bLvlJz-MEUrGjIeVQ'), 185.75),\n",
       " (('JM0GL6Dx4EuZ1mprLk5Gyg', 'NUtVG7jNPLJR2cxMXMH2-A'), 185.625),\n",
       " (('4ZQq0ozRs-gXSz1z55iIDw', 'Hv_q_ZnSIoZwdcoH0CyV2Q'), 184.33333333333331),\n",
       " (('Hv_q_ZnSIoZwdcoH0CyV2Q', 'oegRUjhGbP62M18WyAL6pQ'), 184.0),\n",
       " (('7G8w2SnaC-qDVQ7_GqTxMg', 'JqjAthJThuVYgTh4iWDZ2A'), 181.875),\n",
       " (('39FT2Ui8KUXwmUt6hnwy-g', 'dzJDCQ5vubQBJTfYTEmcbg'), 180.6389384920635),\n",
       " (('JM0GL6Dx4EuZ1mprLk5Gyg', 'ajxohdcsKhRGFlEvHZDyTw'), 178.875),\n",
       " (('DKolrsBSwMTpTJL22dqJRQ', 'dTeSvET2SR5LDF_J07wJAQ'), 164.25739087301585),\n",
       " (('5fQ9P6kbQM_E0dx8DL6JWA', 'JM0GL6Dx4EuZ1mprLk5Gyg'), 163.00689484126985),\n",
       " (('39FT2Ui8KUXwmUt6hnwy-g', 'bSUS0YcvS7UelmHvCzNWBA'), 162.18209325396825),\n",
       " (('SX_SMrddkDU5dySbsZMu9A', 'cyuDrrG5eEK-TZI867MUPA'), 162.0),\n",
       " (('cyuDrrG5eEK-TZI867MUPA', 'jnn504CkjtfbYIwBquWmBw'), 160.75),\n",
       " (('MtdSCXtmrSxj_uZOJ5ZycQ', 'fLnkI1uHtXEsjtF6KoBHbQ'), 158.8488888888889),\n",
       " (('YA-caxALI4C-eCiSM97new', 'cyuDrrG5eEK-TZI867MUPA'), 158.25),\n",
       " (('o-t-i7nbT5N_cmkCXs5oDQ', 'pDNeS1nbkKS7mJmhRQJPig'), 157.99999999999997),\n",
       " (('MtdSCXtmrSxj_uZOJ5ZycQ', 'tekHDsd0fskYG3tqu4sHQw'), 152.01555555555558),\n",
       " (('A-U-K9z9oraMH7eBZW1dOA', 'jnn504CkjtfbYIwBquWmBw'), 152.0),\n",
       " (('39FT2Ui8KUXwmUt6hnwy-g', 'ay4M5J28kBUf0odOQct0BA'), 150.74702380952382),\n",
       " (('KLB3wIYUwKDPMbijIE92vg', 'bSUS0YcvS7UelmHvCzNWBA'), 149.62616567460316),\n",
       " (('JM0GL6Dx4EuZ1mprLk5Gyg', 'jcriwcTidug0fK8sgAloHA'), 147.78777777777776),\n",
       " (('39FT2Ui8KUXwmUt6hnwy-g', '_VTEyUzzH92X3w-IpGaXVA'), 146.2046626984127),\n",
       " (('0FVcoJko1kfZCrJRfssfIA', 'e8uzNcSC5tQMD22GNAQEQA'), 146.15625),\n",
       " (('SVC0CajvmYfH5uAq4JnGvg', 'l-1cva9rA8_ugLrtSdKAqA'), 146.0),\n",
       " (('ZZvfGGLnAkSBSUduV7KN-w', 'l-1cva9rA8_ugLrtSdKAqA'), 146.0),\n",
       " (('JM0GL6Dx4EuZ1mprLk5Gyg', 'ZA1OT-PIZwz2kdHDA6mShw'), 145.03777777777776),\n",
       " (('ay4M5J28kBUf0odOQct0BA', 'bSUS0YcvS7UelmHvCzNWBA'), 143.92083333333332),\n",
       " (('ay4M5J28kBUf0odOQct0BA', 'kwIhn1_cnQeUaLN0CuWWHw'), 139.78214285714284),\n",
       " (('4pc_EyanaC3ARh0MZZyouA', 'LcCRMIDz1JgshpPGYfLDcA'), 135.45744047619047),\n",
       " (('MtdSCXtmrSxj_uZOJ5ZycQ', 'UwV6jBuTR1S9acT6bPTBPw'), 130.57708333333335),\n",
       " (('39FT2Ui8KUXwmUt6hnwy-g', 'zBi_JWB5uUdVuz3JLoAxGQ'), 127.56346726190478),\n",
       " (('_VTEyUzzH92X3w-IpGaXVA', 'ay4M5J28kBUf0odOQct0BA'), 122.79166666666667),\n",
       " (('0FVcoJko1kfZCrJRfssfIA', '7RCz4Ln_FaTvNrdwe251Dg'), 121.34270833333332),\n",
       " (('5DgFmyjW6hkBtXtTMKl4tA', 'MtdSCXtmrSxj_uZOJ5ZycQ'), 120.01166666666667),\n",
       " (('39FT2Ui8KUXwmUt6hnwy-g', 'R4l3ONHzGBakKKNo4TN9iQ'), 117.1875),\n",
       " (('QvLg2kxqHHahxxOlHlEIZw', 'o-t-i7nbT5N_cmkCXs5oDQ'), 116.0),\n",
       " (('KLB3wIYUwKDPMbijIE92vg', '_VTEyUzzH92X3w-IpGaXVA'), 115.865625),\n",
       " (('5DgFmyjW6hkBtXtTMKl4tA', '9S52XHEyrvOv4OZxU6pCLw'), 112.6686111111111),\n",
       " (('DKolrsBSwMTpTJL22dqJRQ', 'WoKCLSctS7G2547xKcED-Q'), 112.3888888888889),\n",
       " (('0FVcoJko1kfZCrJRfssfIA', 'XPAJ2KHkCwBA0vafF-2Zcg'), 110.296875),\n",
       " (('JM0GL6Dx4EuZ1mprLk5Gyg', 'mu4XvWvJOb3XpG1C_CHCWA'), 110.17708333333334),\n",
       " (('0FVcoJko1kfZCrJRfssfIA', '2XYdguaaZ7dgi6fAlddujg'), 109.796875),\n",
       " (('0FVcoJko1kfZCrJRfssfIA', '4PQhC-zTQ4ACEN0-r39JuQ'), 109.796875),\n",
       " (('0FVcoJko1kfZCrJRfssfIA', 'CebjpVd3PsofCgotWp60pg'), 109.796875),\n",
       " (('S1cjSFKcS5NVc3o1MkfpwA', 'pDNeS1nbkKS7mJmhRQJPig'), 108.5),\n",
       " (('mm9WYrFhiNqvHCyhQKw3Mg', 'pDNeS1nbkKS7mJmhRQJPig'), 108.5),\n",
       " (('KLB3wIYUwKDPMbijIE92vg', 'S9dDf0JqSMAvusp5f-9bGw'), 105.18452380952381),\n",
       " (('0FVcoJko1kfZCrJRfssfIA', 'bSUS0YcvS7UelmHvCzNWBA'), 105.02083333333334),\n",
       " (('DKolrsBSwMTpTJL22dqJRQ', 'tL2pS5UOmN6aAOi3Z-qFGg'), 104.62083333333331),\n",
       " (('39FT2Ui8KUXwmUt6hnwy-g', 'B0ENvYKQdNNr1Izd2r-BAA'), 104.25),\n",
       " (('0gZ8E5tBWTEtGEZDuTzhzw', 'cyuDrrG5eEK-TZI867MUPA'), 102.5),\n",
       " (('4ONcRRisDZkbV1cviA7nFw', 'cyuDrrG5eEK-TZI867MUPA'), 102.5),\n",
       " (('KLB3wIYUwKDPMbijIE92vg', 'zBi_JWB5uUdVuz3JLoAxGQ'), 100.4447916666667),\n",
       " (('39FT2Ui8KUXwmUt6hnwy-g', 'KLB3wIYUwKDPMbijIE92vg'), 99.21607142857144),\n",
       " (('LcCRMIDz1JgshpPGYfLDcA', 'zBi_JWB5uUdVuz3JLoAxGQ'), 98.3671875),\n",
       " (('39FT2Ui8KUXwmUt6hnwy-g', 'bHufZ2OTlC-OUxBDRXxViw'), 98.08333333333336),\n",
       " (('KLB3wIYUwKDPMbijIE92vg', 'y6jsaAXFstAJkf53R4_y4Q'), 96.90111607142858),\n",
       " (('QUYbGl1DL-9faG150MQ7zA', 'pDNeS1nbkKS7mJmhRQJPig'), 96.5),\n",
       " (('EiwxlbR8fb68lMgEXhcWKA', 'JteQGisqOf_pklq7GA0Rww'), 96.0),\n",
       " (('DPtOaWemjBPvFiZJBi0m8A', 'tekHDsd0fskYG3tqu4sHQw'), 95.83333333333331),\n",
       " (('0FVcoJko1kfZCrJRfssfIA', 'cm3_8c_NDhPcpwJQ96Aixw'), 95.66145833333334),\n",
       " (('MrsRJa4SWLq8XLU1RtPdlw', 'e5kg9bLvlJz-MEUrGjIeVQ'), 95.41666666666666),\n",
       " (('HLY9oDcVBH9D25lU4X_V5Q', 'e0Jn0ZjqL-dWi7Brs0bbmg'), 95.0),\n",
       " (('HLY9oDcVBH9D25lU4X_V5Q', 'LaiylSIbrA3aPvOYtl-J4A'), 94.5),\n",
       " (('HLY9oDcVBH9D25lU4X_V5Q', 'ZEq0WtRJD9Bl_vYgCsbfOg'), 94.5),\n",
       " (('Ih85YhFRDzOnB09yS__94g', 'oegRUjhGbP62M18WyAL6pQ'), 94.5),\n",
       " (('Z9a1tDT8fVI75qXYwNhPpw', 'oegRUjhGbP62M18WyAL6pQ'), 94.5),\n",
       " (('DPtOaWemjBPvFiZJBi0m8A', 'e5kg9bLvlJz-MEUrGjIeVQ'), 94.41666666666666),\n",
       " (('ay4M5J28kBUf0odOQct0BA', 'bE7Yd0jI_P6g27MWEKKalA'), 94.41250000000001),\n",
       " (('Ams0iLRd0AhZZectGKA8fw', 'JteQGisqOf_pklq7GA0Rww'), 94.0),\n",
       " (('Hv_q_ZnSIoZwdcoH0CyV2Q', 'e0Jn0ZjqL-dWi7Brs0bbmg'), 94.0),\n",
       " (('0FVcoJko1kfZCrJRfssfIA', 'tRZAC_H5RHrjvyvtufcNXQ'), 93.99479166666666),\n",
       " (('MrsRJa4SWLq8XLU1RtPdlw', 'tekHDsd0fskYG3tqu4sHQw'), 93.58333333333331),\n",
       " (('4ZQq0ozRs-gXSz1z55iIDw', 'Ih85YhFRDzOnB09yS__94g'), 93.5),\n",
       " (('4ZQq0ozRs-gXSz1z55iIDw', 'Z9a1tDT8fVI75qXYwNhPpw'), 93.5),\n",
       " (('Hv_q_ZnSIoZwdcoH0CyV2Q', 'LaiylSIbrA3aPvOYtl-J4A'), 93.5),\n",
       " (('Hv_q_ZnSIoZwdcoH0CyV2Q', 'ZEq0WtRJD9Bl_vYgCsbfOg'), 93.5),\n",
       " (('HLY9oDcVBH9D25lU4X_V5Q', 'wXdrUQg4-VkSZH1FG4Byzw'), 93.33333333333333),\n",
       " (('QUYbGl1DL-9faG150MQ7zA', 'QvLg2kxqHHahxxOlHlEIZw'), 92.5),\n",
       " (('Hv_q_ZnSIoZwdcoH0CyV2Q', 'wXdrUQg4-VkSZH1FG4Byzw'), 92.33333333333333),\n",
       " (('9SWtEX1k9AjRg93BAzMCpg', 'pDNeS1nbkKS7mJmhRQJPig'), 90.5),\n",
       " (('BE4fE4R3TaVn8xy4sYYjbg', 'pDNeS1nbkKS7mJmhRQJPig'), 90.5),\n",
       " (('DgfsJqg_gozVgaeZ5vjllA', 'pDNeS1nbkKS7mJmhRQJPig'), 90.5),\n",
       " (('EI9ijI9Wh66LrVW-GmWkOg', 'pDNeS1nbkKS7mJmhRQJPig'), 90.5),\n",
       " (('FyQrUamokaPLDrBxGmzPnA', 'pDNeS1nbkKS7mJmhRQJPig'), 90.5),\n",
       " (('LKP0Yq9T7Ss6oiDZnVtQwQ', 'pDNeS1nbkKS7mJmhRQJPig'), 90.5),\n",
       " (('Nf_Jw_W_CwOz5WJ7ApSMxg', 'pDNeS1nbkKS7mJmhRQJPig'), 90.5),\n",
       " (('WXlxViTwXHPBvhioljN9PQ', 'pDNeS1nbkKS7mJmhRQJPig'), 90.5),\n",
       " (('ZXyGw3Z1DyhK1sfNtpcyYA', 'pDNeS1nbkKS7mJmhRQJPig'), 90.5),\n",
       " (('ae7zi8F0B6l_JCITh1mXDg', 'pDNeS1nbkKS7mJmhRQJPig'), 90.5),\n",
       " (('h-ajC_UHD0QAyAzySN6g2A', 'pDNeS1nbkKS7mJmhRQJPig'), 90.5),\n",
       " (('k58KNO8Rya-q8njKq8-uBQ', 'pDNeS1nbkKS7mJmhRQJPig'), 90.5),\n",
       " (('pDNeS1nbkKS7mJmhRQJPig', 'tcWnoX_IfuDmlDl6o6y3_g'), 90.5),\n",
       " (('0FVcoJko1kfZCrJRfssfIA', 'hqmnMdDS-Opjp3BfBJA8qA'), 90.46874999999999),\n",
       " (('1KQi8Ymatd4ySAd4fhSfaw', '39FT2Ui8KUXwmUt6hnwy-g'), 90.08333333333333),\n",
       " (('0gZ8E5tBWTEtGEZDuTzhzw', 'A-U-K9z9oraMH7eBZW1dOA'), 86.5),\n",
       " (('4ONcRRisDZkbV1cviA7nFw', 'A-U-K9z9oraMH7eBZW1dOA'), 86.5),\n",
       " (('9SWtEX1k9AjRg93BAzMCpg', 'QvLg2kxqHHahxxOlHlEIZw'), 86.5),\n",
       " (('BE4fE4R3TaVn8xy4sYYjbg', 'QvLg2kxqHHahxxOlHlEIZw'), 86.5),\n",
       " (('DgfsJqg_gozVgaeZ5vjllA', 'QvLg2kxqHHahxxOlHlEIZw'), 86.5),\n",
       " (('EI9ijI9Wh66LrVW-GmWkOg', 'QvLg2kxqHHahxxOlHlEIZw'), 86.5),\n",
       " (('FyQrUamokaPLDrBxGmzPnA', 'QvLg2kxqHHahxxOlHlEIZw'), 86.5),\n",
       " (('LKP0Yq9T7Ss6oiDZnVtQwQ', 'QvLg2kxqHHahxxOlHlEIZw'), 86.5),\n",
       " (('Nf_Jw_W_CwOz5WJ7ApSMxg', 'QvLg2kxqHHahxxOlHlEIZw'), 86.5),\n",
       " (('QvLg2kxqHHahxxOlHlEIZw', 'WXlxViTwXHPBvhioljN9PQ'), 86.5),\n",
       " (('QvLg2kxqHHahxxOlHlEIZw', 'ZXyGw3Z1DyhK1sfNtpcyYA'), 86.5),\n",
       " (('QvLg2kxqHHahxxOlHlEIZw', 'ae7zi8F0B6l_JCITh1mXDg'), 86.5),\n",
       " (('QvLg2kxqHHahxxOlHlEIZw', 'h-ajC_UHD0QAyAzySN6g2A'), 86.5),\n",
       " (('QvLg2kxqHHahxxOlHlEIZw', 'k58KNO8Rya-q8njKq8-uBQ'), 86.5),\n",
       " (('QvLg2kxqHHahxxOlHlEIZw', 'tcWnoX_IfuDmlDl6o6y3_g'), 86.5),\n",
       " (('0FVcoJko1kfZCrJRfssfIA', 'B0ENvYKQdNNr1Izd2r-BAA'), 84.75),\n",
       " (('S9dDf0JqSMAvusp5f-9bGw', '_VTEyUzzH92X3w-IpGaXVA'), 83.81547619047618),\n",
       " (('39FT2Ui8KUXwmUt6hnwy-g', 'qtOCfMTrozmUSHWIcohc6Q'), 83.63541666666669),\n",
       " (('9S52XHEyrvOv4OZxU6pCLw', 'Zk95TMXDx0zMUhYq5u8pxw'), 83.45638888888888),\n",
       " (('B7IvZ26ZUdL2jGbYsFVGxQ', 'cyuDrrG5eEK-TZI867MUPA'), 82.75),\n",
       " (('Gua5GdTlTWJpovtG7Hdtyg', 'cyuDrrG5eEK-TZI867MUPA'), 82.50000000000001),\n",
       " (('0FVcoJko1kfZCrJRfssfIA', 'bJguBxPlnTW29tRTAF0nkQ'), 82.06250000000001),\n",
       " (('0FVcoJko1kfZCrJRfssfIA', '_VTEyUzzH92X3w-IpGaXVA'), 81.7529761904762),\n",
       " (('S1cjSFKcS5NVc3o1MkfpwA', 'jnn504CkjtfbYIwBquWmBw'), 79.5),\n",
       " (('jnn504CkjtfbYIwBquWmBw', 'mm9WYrFhiNqvHCyhQKw3Mg'), 79.5),\n",
       " (('2XYdguaaZ7dgi6fAlddujg', 'bSUS0YcvS7UelmHvCzNWBA'), 79.203125),\n",
       " (('4PQhC-zTQ4ACEN0-r39JuQ', 'bSUS0YcvS7UelmHvCzNWBA'), 79.203125),\n",
       " (('CebjpVd3PsofCgotWp60pg', 'bSUS0YcvS7UelmHvCzNWBA'), 79.203125),\n",
       " (('39FT2Ui8KUXwmUt6hnwy-g', 'mu4XvWvJOb3XpG1C_CHCWA'), 78.82291666666666),\n",
       " (('XPAJ2KHkCwBA0vafF-2Zcg', '_VTEyUzzH92X3w-IpGaXVA'), 78.703125),\n",
       " (('A-U-K9z9oraMH7eBZW1dOA', 'Gua5GdTlTWJpovtG7Hdtyg'), 76.25),\n",
       " (('A-U-K9z9oraMH7eBZW1dOA', 'B7IvZ26ZUdL2jGbYsFVGxQ'), 76.0),\n",
       " (('0FVcoJko1kfZCrJRfssfIA', 'bE7Yd0jI_P6g27MWEKKalA'), 72.30357142857143),\n",
       " (('R4l3ONHzGBakKKNo4TN9iQ', 'bSUS0YcvS7UelmHvCzNWBA'), 71.8125),\n",
       " (('0FVcoJko1kfZCrJRfssfIA', 'KtE55izPs1ubJn3ofF2IrA'), 71.11093749999999),\n",
       " (('ay4M5J28kBUf0odOQct0BA', 'zBi_JWB5uUdVuz3JLoAxGQ'), 70.86369047619047),\n",
       " (('0FVcoJko1kfZCrJRfssfIA', '2quguRdKBzul3GpRi9e1mA'), 69.5296875),\n",
       " (('7RCz4Ln_FaTvNrdwe251Dg', 'bSUS0YcvS7UelmHvCzNWBA'), 67.821875),\n",
       " (('bSUS0YcvS7UelmHvCzNWBA', 'tRZAC_H5RHrjvyvtufcNXQ'), 66.90104166666664),\n",
       " (('0FVcoJko1kfZCrJRfssfIA', 'sBqCpEUn0qYdpSF4DbWlAQ'), 65.7796875),\n",
       " (('_VTEyUzzH92X3w-IpGaXVA', 'cm3_8c_NDhPcpwJQ96Aixw'), 65.56770833333331),\n",
       " (('7RCz4Ln_FaTvNrdwe251Dg', '_VTEyUzzH92X3w-IpGaXVA'), 64.821875),\n",
       " (('LcCRMIDz1JgshpPGYfLDcA', 'y6jsaAXFstAJkf53R4_y4Q'), 63.627604166666664),\n",
       " (('0FVcoJko1kfZCrJRfssfIA', '1KQi8Ymatd4ySAd4fhSfaw'), 62.958333333333336),\n",
       " (('hilL60vuuh06sMxs6Ckkog', 'kwIhn1_cnQeUaLN0CuWWHw'), 62.517857142857146),\n",
       " (('bSUS0YcvS7UelmHvCzNWBA', 'hqmnMdDS-Opjp3BfBJA8qA'), 59.37500000000002),\n",
       " (('UwV6jBuTR1S9acT6bPTBPw', 'e5kg9bLvlJz-MEUrGjIeVQ'), 58.422916666666666),\n",
       " (('0FVcoJko1kfZCrJRfssfIA', 'dW6bAWM1HbPdk_cGS_a2HA'), 57.480133928571426),\n",
       " (('bJguBxPlnTW29tRTAF0nkQ', 'bSUS0YcvS7UelmHvCzNWBA'), 53.96875),\n",
       " (('_VTEyUzzH92X3w-IpGaXVA', 'bJguBxPlnTW29tRTAF0nkQ'), 52.96875),\n",
       " (('ay4M5J28kBUf0odOQct0BA', 'dTeSvET2SR5LDF_J07wJAQ'), 52.73075396825398),\n",
       " (('39FT2Ui8KUXwmUt6hnwy-g', 'dTeSvET2SR5LDF_J07wJAQ'), 51.846453373015855),\n",
       " (('0FVcoJko1kfZCrJRfssfIA', 'qtOCfMTrozmUSHWIcohc6Q'), 51.34375),\n",
       " (('39FT2Ui8KUXwmUt6hnwy-g', '_Pn-EmWO-pFPFg81ZIEiDw'), 48.43244047619048),\n",
       " (('ay4M5J28kBUf0odOQct0BA', 'y6jsaAXFstAJkf53R4_y4Q'), 47.91874999999998),\n",
       " (('2quguRdKBzul3GpRi9e1mA', 'bSUS0YcvS7UelmHvCzNWBA'), 47.727604166666694),\n",
       " (('MtdSCXtmrSxj_uZOJ5ZycQ', 'ZA1OT-PIZwz2kdHDA6mShw'), 45.96222222222223),\n",
       " (('7RCz4Ln_FaTvNrdwe251Dg', 'dTeSvET2SR5LDF_J07wJAQ'), 45.64999999999999),\n",
       " (('_VTEyUzzH92X3w-IpGaXVA', 'bHufZ2OTlC-OUxBDRXxViw'), 45.45833333333332),\n",
       " (('bHufZ2OTlC-OUxBDRXxViw', 'bSUS0YcvS7UelmHvCzNWBA'), 45.45833333333332),\n",
       " (('7RCz4Ln_FaTvNrdwe251Dg', 'bE7Yd0jI_P6g27MWEKKalA'), 44.545833333333334),\n",
       " (('KtE55izPs1ubJn3ofF2IrA', 'bSUS0YcvS7UelmHvCzNWBA'), 43.68385416666665),\n",
       " (('e8uzNcSC5tQMD22GNAQEQA', 'zBi_JWB5uUdVuz3JLoAxGQ'), 42.84375),\n",
       " (('0FVcoJko1kfZCrJRfssfIA', 'tL2pS5UOmN6aAOi3Z-qFGg'), 42.61041666666667),\n",
       " (('KtE55izPs1ubJn3ofF2IrA', '_VTEyUzzH92X3w-IpGaXVA'), 42.01718749999999),\n",
       " (('2quguRdKBzul3GpRi9e1mA', '_VTEyUzzH92X3w-IpGaXVA'), 41.40260416666668),\n",
       " (('0FVcoJko1kfZCrJRfssfIA', '_Pn-EmWO-pFPFg81ZIEiDw'), 41.40119047619047),\n",
       " (('MtdSCXtmrSxj_uZOJ5ZycQ', 'jcriwcTidug0fK8sgAloHA'), 41.21222222222222),\n",
       " (('0FVcoJko1kfZCrJRfssfIA', '4pc_EyanaC3ARh0MZZyouA'), 40.503273809523805),\n",
       " (('bE7Yd0jI_P6g27MWEKKalA', 'hqmnMdDS-Opjp3BfBJA8qA'), 39.156250000000014),\n",
       " (('0FVcoJko1kfZCrJRfssfIA', 'y6jsaAXFstAJkf53R4_y4Q'), 38.96696428571428),\n",
       " (('KLB3wIYUwKDPMbijIE92vg', '_Pn-EmWO-pFPFg81ZIEiDw'), 38.2827380952381),\n",
       " (('bSUS0YcvS7UelmHvCzNWBA', 'sBqCpEUn0qYdpSF4DbWlAQ'), 37.519270833333344),\n",
       " (('_VTEyUzzH92X3w-IpGaXVA', 'sBqCpEUn0qYdpSF4DbWlAQ'), 36.6859375),\n",
       " (('1KQi8Ymatd4ySAd4fhSfaw', 'bSUS0YcvS7UelmHvCzNWBA'), 35.95833333333333),\n",
       " (('0FVcoJko1kfZCrJRfssfIA', 'zBi_JWB5uUdVuz3JLoAxGQ'), 34.00714285714286),\n",
       " (('7RCz4Ln_FaTvNrdwe251Dg', 'zBi_JWB5uUdVuz3JLoAxGQ'), 31.817708333333336),\n",
       " (('0FVcoJko1kfZCrJRfssfIA', 'dTeSvET2SR5LDF_J07wJAQ'), 31.465476190476192),\n",
       " (('bSUS0YcvS7UelmHvCzNWBA', 'dW6bAWM1HbPdk_cGS_a2HA'), 31.136383928571423),\n",
       " (('WoKCLSctS7G2547xKcED-Q', '_VTEyUzzH92X3w-IpGaXVA'), 31.01388888888889),\n",
       " (('WoKCLSctS7G2547xKcED-Q', 'bSUS0YcvS7UelmHvCzNWBA'), 31.013888888888886),\n",
       " (('_VTEyUzzH92X3w-IpGaXVA', 'dW6bAWM1HbPdk_cGS_a2HA'), 29.94590773809524),\n",
       " (('KtE55izPs1ubJn3ofF2IrA', 'bE7Yd0jI_P6g27MWEKKalA'), 29.454687500000002),\n",
       " (('SVC0CajvmYfH5uAq4JnGvg', 'cyuDrrG5eEK-TZI867MUPA'), 29.0),\n",
       " (('ZZvfGGLnAkSBSUduV7KN-w', 'cyuDrrG5eEK-TZI867MUPA'), 29.0),\n",
       " (('tRZAC_H5RHrjvyvtufcNXQ', 'zBi_JWB5uUdVuz3JLoAxGQ'), 28.104166666666664),\n",
       " (('cm3_8c_NDhPcpwJQ96Aixw', 'zBi_JWB5uUdVuz3JLoAxGQ'), 27.770833333333332),\n",
       " (('bSUS0YcvS7UelmHvCzNWBA', 'qtOCfMTrozmUSHWIcohc6Q'), 27.177083333333336),\n",
       " (('SX_SMrddkDU5dySbsZMu9A', 'pDNeS1nbkKS7mJmhRQJPig'), 27.0),\n",
       " (('_VTEyUzzH92X3w-IpGaXVA', 'qtOCfMTrozmUSHWIcohc6Q'), 26.84375),\n",
       " (('5fQ9P6kbQM_E0dx8DL6JWA', 'dzJDCQ5vubQBJTfYTEmcbg'), 25.99310515873016),\n",
       " (('IuaAfrkirlfzY3f4PkgSmw', 'tekHDsd0fskYG3tqu4sHQw'), 25.499999999999993),\n",
       " (('dTeSvET2SR5LDF_J07wJAQ', 'sBqCpEUn0qYdpSF4DbWlAQ'), 25.154687499999998),\n",
       " (('e5kg9bLvlJz-MEUrGjIeVQ', 'tekHDsd0fskYG3tqu4sHQw'), 23.916666666666664),\n",
       " (('bE7Yd0jI_P6g27MWEKKalA', 'sBqCpEUn0qYdpSF4DbWlAQ'), 23.86041666666667),\n",
       " (('39FT2Ui8KUXwmUt6hnwy-g', 'OoyQYSeYNyRVOmdO3tsxYA'), 22.791666666666668),\n",
       " (('4pc_EyanaC3ARh0MZZyouA', 'bSUS0YcvS7UelmHvCzNWBA'), 22.12827380952381),\n",
       " (('_VTEyUzzH92X3w-IpGaXVA', 'bSUS0YcvS7UelmHvCzNWBA'), 21.190476190476183),\n",
       " (('e5kg9bLvlJz-MEUrGjIeVQ', 'm1IVpXClMox1VGw5hO2LhQ'), 20.999999999999996),\n",
       " (('bSUS0YcvS7UelmHvCzNWBA', 'y6jsaAXFstAJkf53R4_y4Q'), 20.591964285714283),\n",
       " (('dTeSvET2SR5LDF_J07wJAQ', 'dW6bAWM1HbPdk_cGS_a2HA'), 20.55044642857143),\n",
       " (('bE7Yd0jI_P6g27MWEKKalA', 'dW6bAWM1HbPdk_cGS_a2HA'), 20.165029761904762),\n",
       " (('bE7Yd0jI_P6g27MWEKKalA', 'bSUS0YcvS7UelmHvCzNWBA'), 19.907738095238095),\n",
       " (('bSUS0YcvS7UelmHvCzNWBA', 'zBi_JWB5uUdVuz3JLoAxGQ'), 19.819642857142856),\n",
       " (('bE7Yd0jI_P6g27MWEKKalA', 'zBi_JWB5uUdVuz3JLoAxGQ'), 19.310714285714287),\n",
       " (('_Pn-EmWO-pFPFg81ZIEiDw', 'ay4M5J28kBUf0odOQct0BA'), 18.101190476190478),\n",
       " (('_VTEyUzzH92X3w-IpGaXVA', 'bE7Yd0jI_P6g27MWEKKalA'), 17.991071428571423),\n",
       " (('_Pn-EmWO-pFPFg81ZIEiDw', 'bSUS0YcvS7UelmHvCzNWBA'), 17.901190476190475),\n",
       " (('bSUS0YcvS7UelmHvCzNWBA', 'tL2pS5UOmN6aAOi3Z-qFGg'), 17.860416666666662),\n",
       " (('_VTEyUzzH92X3w-IpGaXVA', 'tL2pS5UOmN6aAOi3Z-qFGg'), 17.19375),\n",
       " (('_Pn-EmWO-pFPFg81ZIEiDw', 'bE7Yd0jI_P6g27MWEKKalA'), 16.808928571428574),\n",
       " (('4pc_EyanaC3ARh0MZZyouA', 'dW6bAWM1HbPdk_cGS_a2HA'), 16.6703869047619),\n",
       " (('_Pn-EmWO-pFPFg81ZIEiDw', '_VTEyUzzH92X3w-IpGaXVA'), 16.567857142857143),\n",
       " (('2quguRdKBzul3GpRi9e1mA', 'zBi_JWB5uUdVuz3JLoAxGQ'), 16.354687499999997),\n",
       " (('4pc_EyanaC3ARh0MZZyouA', 'zBi_JWB5uUdVuz3JLoAxGQ'), 16.318749999999998),\n",
       " (('YA-caxALI4C-eCiSM97new', 'pDNeS1nbkKS7mJmhRQJPig'), 16.25),\n",
       " (('bE7Yd0jI_P6g27MWEKKalA', 'y6jsaAXFstAJkf53R4_y4Q'), 15.530952380952376),\n",
       " (('m1IVpXClMox1VGw5hO2LhQ', 'tekHDsd0fskYG3tqu4sHQw'), 15.000000000000004),\n",
       " (('dW6bAWM1HbPdk_cGS_a2HA', 'zBi_JWB5uUdVuz3JLoAxGQ'), 14.837425595238093),\n",
       " (('B7IvZ26ZUdL2jGbYsFVGxQ', 'pDNeS1nbkKS7mJmhRQJPig'), 14.749999999999998),\n",
       " (('WoKCLSctS7G2547xKcED-Q', 'bE7Yd0jI_P6g27MWEKKalA'), 14.58333333333333),\n",
       " (('Gua5GdTlTWJpovtG7Hdtyg', 'pDNeS1nbkKS7mJmhRQJPig'), 14.499999999999998),\n",
       " (('_VTEyUzzH92X3w-IpGaXVA', 'y6jsaAXFstAJkf53R4_y4Q'), 14.490773809523805),\n",
       " (('_VTEyUzzH92X3w-IpGaXVA', 'zBi_JWB5uUdVuz3JLoAxGQ'), 13.760119047619048),\n",
       " (('jnn504CkjtfbYIwBquWmBw', 'pDNeS1nbkKS7mJmhRQJPig'), 13.75),\n",
       " (('QvLg2kxqHHahxxOlHlEIZw', 'jnn504CkjtfbYIwBquWmBw'), 13.25),\n",
       " (('4pc_EyanaC3ARh0MZZyouA', 'y6jsaAXFstAJkf53R4_y4Q'), 13.143154761904764),\n",
       " (('A-U-K9z9oraMH7eBZW1dOA', 'SVC0CajvmYfH5uAq4JnGvg'), 13.0),\n",
       " (('A-U-K9z9oraMH7eBZW1dOA', 'ZZvfGGLnAkSBSUduV7KN-w'), 13.0),\n",
       " (('QvLg2kxqHHahxxOlHlEIZw', 'YA-caxALI4C-eCiSM97new'), 12.75),\n",
       " (('dTeSvET2SR5LDF_J07wJAQ', 'y6jsaAXFstAJkf53R4_y4Q'), 12.449107142857141),\n",
       " (('B7IvZ26ZUdL2jGbYsFVGxQ', 'QvLg2kxqHHahxxOlHlEIZw'), 12.25),\n",
       " (('Gua5GdTlTWJpovtG7Hdtyg', 'QvLg2kxqHHahxxOlHlEIZw'), 11.999999999999998),\n",
       " (('2quguRdKBzul3GpRi9e1mA', 'y6jsaAXFstAJkf53R4_y4Q'), 10.97708333333333),\n",
       " (('dTeSvET2SR5LDF_J07wJAQ', 'zBi_JWB5uUdVuz3JLoAxGQ'), 10.804761904761905),\n",
       " (('2quguRdKBzul3GpRi9e1mA', 'LcCRMIDz1JgshpPGYfLDcA'), 9.991666666666665),\n",
       " (('5DgFmyjW6hkBtXtTMKl4tA', 'ajxohdcsKhRGFlEvHZDyTw'), 9.5),\n",
       " (('9S52XHEyrvOv4OZxU6pCLw', 'JqjAthJThuVYgTh4iWDZ2A'), 9.125),\n",
       " (('IuaAfrkirlfzY3f4PkgSmw', 'ZA1OT-PIZwz2kdHDA6mShw'), 9.0),\n",
       " (('bSUS0YcvS7UelmHvCzNWBA', 'dTeSvET2SR5LDF_J07wJAQ'), 8.96547619047619),\n",
       " (('_VTEyUzzH92X3w-IpGaXVA', 'dTeSvET2SR5LDF_J07wJAQ'), 7.882142857142855),\n",
       " (('A-U-K9z9oraMH7eBZW1dOA', 'cyuDrrG5eEK-TZI867MUPA'), 7.750000000000002),\n",
       " (('bE7Yd0jI_P6g27MWEKKalA', 'tL2pS5UOmN6aAOi3Z-qFGg'), 6.714583333333333),\n",
       " (('bE7Yd0jI_P6g27MWEKKalA', 'dTeSvET2SR5LDF_J07wJAQ'), 5.738690476190476),\n",
       " (('_Pn-EmWO-pFPFg81ZIEiDw', 'y6jsaAXFstAJkf53R4_y4Q'), 4.799107142857143),\n",
       " (('y6jsaAXFstAJkf53R4_y4Q', 'zBi_JWB5uUdVuz3JLoAxGQ'), 4.049107142857143),\n",
       " (('7G8w2SnaC-qDVQ7_GqTxMg', 'ajxohdcsKhRGFlEvHZDyTw'), 4.0),\n",
       " (('Cf0chERnfd06ltnN45xLNQ', 'CyrRjt_7iJ8_lSHeH1_TlA'), 4.0),\n",
       " (('Cf0chERnfd06ltnN45xLNQ', 'JhFK9D3LYl23Se3x4oPUxA'), 4.0),\n",
       " (('Cf0chERnfd06ltnN45xLNQ', 'ZW-XoteNlRuuK-19q1spmw'), 4.0),\n",
       " (('Cf0chERnfd06ltnN45xLNQ', 'lL-wNa0TKK6LXrlcVmjYrQ'), 4.0),\n",
       " (('_6Zg4ukwS0kst9UtkfVw3w', 'lJFBgSAccsMGwIjfD7LMeQ'), 4.0),\n",
       " (('QvLg2kxqHHahxxOlHlEIZw', 'pDNeS1nbkKS7mJmhRQJPig'), 3.5),\n",
       " (('2quguRdKBzul3GpRi9e1mA', 'KtE55izPs1ubJn3ofF2IrA'), 3.4),\n",
       " (('NUtVG7jNPLJR2cxMXMH2-A', 'ajxohdcsKhRGFlEvHZDyTw'), 3.375),\n",
       " (('oegRUjhGbP62M18WyAL6pQ', 'wXdrUQg4-VkSZH1FG4Byzw'), 3.333333333333333),\n",
       " (('DPtOaWemjBPvFiZJBi0m8A', 'cIbbfJEGLB3B-c8Po4AL5g'), 3.25),\n",
       " (('CLbpPUqP6XpeAfoqScGaJQ', 'tX0r-C9BaHYEolRUfufTsQ'), 3.0),\n",
       " (('Gr-MqCunME2K_KmsAwjpTA', 'lJFBgSAccsMGwIjfD7LMeQ'), 3.0),\n",
       " (('QRsuZ_LqrRU65dTs5CL4Lw', '_6Zg4ukwS0kst9UtkfVw3w'), 3.0),\n",
       " (('drTMOo4p8nL0pnMNEyat2A', 'tX0r-C9BaHYEolRUfufTsQ'), 3.0),\n",
       " (('tX0r-C9BaHYEolRUfufTsQ', 'xhlcoVm3FOKcxZ0phkdO6Q'), 3.0),\n",
       " (('97j2wkFU46OOgm6ErRAb7w', 'EiwxlbR8fb68lMgEXhcWKA'), 2.5),\n",
       " (('EiwxlbR8fb68lMgEXhcWKA', 'SdXxLZQQnQNUEL1rGMOQ6w'), 2.5),\n",
       " (('Gua5GdTlTWJpovtG7Hdtyg', 'jnn504CkjtfbYIwBquWmBw'), 2.25),\n",
       " (('0QREkWHGO8-Z_70qx1BIWw', 'KHjroLTG6Ah8LyItTyB2yw'), 2.0),\n",
       " (('0QREkWHGO8-Z_70qx1BIWw', 'tAcY4S3vIuNlAoRlCcz5VA'), 2.0),\n",
       " (('98rLDXbloLXekGjieuQSlA', 'QYKexxaOJQlseGWmc6soRg'), 2.0),\n",
       " (('B7IvZ26ZUdL2jGbYsFVGxQ', 'jnn504CkjtfbYIwBquWmBw'), 2.0),\n",
       " (('BDmxm7aeWFOLT35gSvkmig', 'XrRLaAeV20MRwdSIGjj2SQ'), 2.0),\n",
       " (('HLY9oDcVBH9D25lU4X_V5Q', 'Hv_q_ZnSIoZwdcoH0CyV2Q'), 2.0),\n",
       " (('MJ0Wphhko2-LbJ0uZ5XyQA', 'QYKexxaOJQlseGWmc6soRg'), 2.0),\n",
       " (('Gua5GdTlTWJpovtG7Hdtyg', 'YA-caxALI4C-eCiSM97new'), 1.75),\n",
       " (('2GUjO7NU88cPXpoffYCU8w', 'XrRLaAeV20MRwdSIGjj2SQ'), 1.5),\n",
       " (('6xi9tBoZ6r_v41u_XFsSnA', 'XrRLaAeV20MRwdSIGjj2SQ'), 1.5),\n",
       " (('4ZQq0ozRs-gXSz1z55iIDw', 'oegRUjhGbP62M18WyAL6pQ'), 1.3333333333333333),\n",
       " (('B7IvZ26ZUdL2jGbYsFVGxQ', 'Gua5GdTlTWJpovtG7Hdtyg'), 1.25),\n",
       " (('23y0Nv9FFWn_3UWudpnFMA', 'eqWEgMH-DCP74i82BEAZzw'), 1.0),\n",
       " (('2GUjO7NU88cPXpoffYCU8w', '6xi9tBoZ6r_v41u_XFsSnA'), 1.0),\n",
       " (('3Vd_ATdvvuVVgn_YCpz8fw', 'jSbXY_rno4hYHQCFftsWXg'), 1.0),\n",
       " (('453V8MlGr8y61PpsDAFjKQ', 'gH0dJQhyKUOVCKQA6sqAnw'), 1.0),\n",
       " (('46HhzhpBfTdTSB5ceTx_Og', 'YVQFzWm0H72mLUh-8gzd5w'), 1.0),\n",
       " (('6YmRpoIuiq8I19Q8dHKTHw', 'angEr2YcXmCl20s8WQu32w'), 1.0),\n",
       " (('6YmRpoIuiq8I19Q8dHKTHw', 'frQs7y5qa-X1pvAM0sJe1w'), 1.0),\n",
       " (('9SWtEX1k9AjRg93BAzMCpg', 'BE4fE4R3TaVn8xy4sYYjbg'), 1.0),\n",
       " (('9SWtEX1k9AjRg93BAzMCpg', 'DgfsJqg_gozVgaeZ5vjllA'), 1.0),\n",
       " (('9SWtEX1k9AjRg93BAzMCpg', 'EI9ijI9Wh66LrVW-GmWkOg'), 1.0),\n",
       " (('9SWtEX1k9AjRg93BAzMCpg', 'FyQrUamokaPLDrBxGmzPnA'), 1.0),\n",
       " (('9SWtEX1k9AjRg93BAzMCpg', 'LKP0Yq9T7Ss6oiDZnVtQwQ'), 1.0),\n",
       " (('9SWtEX1k9AjRg93BAzMCpg', 'Nf_Jw_W_CwOz5WJ7ApSMxg'), 1.0),\n",
       " (('9SWtEX1k9AjRg93BAzMCpg', 'WXlxViTwXHPBvhioljN9PQ'), 1.0),\n",
       " (('9SWtEX1k9AjRg93BAzMCpg', 'ZXyGw3Z1DyhK1sfNtpcyYA'), 1.0),\n",
       " (('9SWtEX1k9AjRg93BAzMCpg', 'ae7zi8F0B6l_JCITh1mXDg'), 1.0),\n",
       " (('9SWtEX1k9AjRg93BAzMCpg', 'h-ajC_UHD0QAyAzySN6g2A'), 1.0),\n",
       " (('9SWtEX1k9AjRg93BAzMCpg', 'k58KNO8Rya-q8njKq8-uBQ'), 1.0),\n",
       " (('9SWtEX1k9AjRg93BAzMCpg', 'tcWnoX_IfuDmlDl6o6y3_g'), 1.0),\n",
       " (('9W73B44Iw8WslrTNB2CdCg', 'UmTMCfPlhA6kJLAsLycSfg'), 1.0),\n",
       " (('BE4fE4R3TaVn8xy4sYYjbg', 'DgfsJqg_gozVgaeZ5vjllA'), 1.0),\n",
       " (('BE4fE4R3TaVn8xy4sYYjbg', 'EI9ijI9Wh66LrVW-GmWkOg'), 1.0),\n",
       " (('BE4fE4R3TaVn8xy4sYYjbg', 'FyQrUamokaPLDrBxGmzPnA'), 1.0),\n",
       " (('BE4fE4R3TaVn8xy4sYYjbg', 'LKP0Yq9T7Ss6oiDZnVtQwQ'), 1.0),\n",
       " (('BE4fE4R3TaVn8xy4sYYjbg', 'Nf_Jw_W_CwOz5WJ7ApSMxg'), 1.0),\n",
       " (('BE4fE4R3TaVn8xy4sYYjbg', 'WXlxViTwXHPBvhioljN9PQ'), 1.0),\n",
       " (('BE4fE4R3TaVn8xy4sYYjbg', 'ZXyGw3Z1DyhK1sfNtpcyYA'), 1.0),\n",
       " (('BE4fE4R3TaVn8xy4sYYjbg', 'ae7zi8F0B6l_JCITh1mXDg'), 1.0),\n",
       " (('BE4fE4R3TaVn8xy4sYYjbg', 'h-ajC_UHD0QAyAzySN6g2A'), 1.0),\n",
       " (('BE4fE4R3TaVn8xy4sYYjbg', 'k58KNO8Rya-q8njKq8-uBQ'), 1.0),\n",
       " (('BE4fE4R3TaVn8xy4sYYjbg', 'tcWnoX_IfuDmlDl6o6y3_g'), 1.0),\n",
       " (('DgfsJqg_gozVgaeZ5vjllA', 'EI9ijI9Wh66LrVW-GmWkOg'), 1.0),\n",
       " (('DgfsJqg_gozVgaeZ5vjllA', 'FyQrUamokaPLDrBxGmzPnA'), 1.0),\n",
       " (('DgfsJqg_gozVgaeZ5vjllA', 'LKP0Yq9T7Ss6oiDZnVtQwQ'), 1.0),\n",
       " (('DgfsJqg_gozVgaeZ5vjllA', 'Nf_Jw_W_CwOz5WJ7ApSMxg'), 1.0),\n",
       " (('DgfsJqg_gozVgaeZ5vjllA', 'WXlxViTwXHPBvhioljN9PQ'), 1.0),\n",
       " (('DgfsJqg_gozVgaeZ5vjllA', 'ZXyGw3Z1DyhK1sfNtpcyYA'), 1.0),\n",
       " (('DgfsJqg_gozVgaeZ5vjllA', 'ae7zi8F0B6l_JCITh1mXDg'), 1.0),\n",
       " (('DgfsJqg_gozVgaeZ5vjllA', 'h-ajC_UHD0QAyAzySN6g2A'), 1.0),\n",
       " (('DgfsJqg_gozVgaeZ5vjllA', 'k58KNO8Rya-q8njKq8-uBQ'), 1.0),\n",
       " (('DgfsJqg_gozVgaeZ5vjllA', 'tcWnoX_IfuDmlDl6o6y3_g'), 1.0),\n",
       " (('EI9ijI9Wh66LrVW-GmWkOg', 'FyQrUamokaPLDrBxGmzPnA'), 1.0),\n",
       " (('EI9ijI9Wh66LrVW-GmWkOg', 'LKP0Yq9T7Ss6oiDZnVtQwQ'), 1.0),\n",
       " (('EI9ijI9Wh66LrVW-GmWkOg', 'Nf_Jw_W_CwOz5WJ7ApSMxg'), 1.0),\n",
       " (('EI9ijI9Wh66LrVW-GmWkOg', 'WXlxViTwXHPBvhioljN9PQ'), 1.0),\n",
       " (('EI9ijI9Wh66LrVW-GmWkOg', 'ZXyGw3Z1DyhK1sfNtpcyYA'), 1.0),\n",
       " (('EI9ijI9Wh66LrVW-GmWkOg', 'ae7zi8F0B6l_JCITh1mXDg'), 1.0),\n",
       " (('EI9ijI9Wh66LrVW-GmWkOg', 'h-ajC_UHD0QAyAzySN6g2A'), 1.0),\n",
       " (('EI9ijI9Wh66LrVW-GmWkOg', 'k58KNO8Rya-q8njKq8-uBQ'), 1.0),\n",
       " (('EI9ijI9Wh66LrVW-GmWkOg', 'tcWnoX_IfuDmlDl6o6y3_g'), 1.0),\n",
       " (('F47atsRPw-KHmRVk5exBFw', 'JeOHA8tW7gr-FDYOcPJoeA'), 1.0),\n",
       " (('FyQrUamokaPLDrBxGmzPnA', 'LKP0Yq9T7Ss6oiDZnVtQwQ'), 1.0),\n",
       " (('FyQrUamokaPLDrBxGmzPnA', 'Nf_Jw_W_CwOz5WJ7ApSMxg'), 1.0),\n",
       " (('FyQrUamokaPLDrBxGmzPnA', 'WXlxViTwXHPBvhioljN9PQ'), 1.0),\n",
       " (('FyQrUamokaPLDrBxGmzPnA', 'ZXyGw3Z1DyhK1sfNtpcyYA'), 1.0),\n",
       " (('FyQrUamokaPLDrBxGmzPnA', 'ae7zi8F0B6l_JCITh1mXDg'), 1.0),\n",
       " (('FyQrUamokaPLDrBxGmzPnA', 'h-ajC_UHD0QAyAzySN6g2A'), 1.0),\n",
       " (('FyQrUamokaPLDrBxGmzPnA', 'k58KNO8Rya-q8njKq8-uBQ'), 1.0),\n",
       " (('FyQrUamokaPLDrBxGmzPnA', 'tcWnoX_IfuDmlDl6o6y3_g'), 1.0),\n",
       " (('Ih85YhFRDzOnB09yS__94g', 'Z9a1tDT8fVI75qXYwNhPpw'), 1.0),\n",
       " (('KHjroLTG6Ah8LyItTyB2yw', 'tAcY4S3vIuNlAoRlCcz5VA'), 1.0),\n",
       " (('LKP0Yq9T7Ss6oiDZnVtQwQ', 'Nf_Jw_W_CwOz5WJ7ApSMxg'), 1.0),\n",
       " (('LKP0Yq9T7Ss6oiDZnVtQwQ', 'WXlxViTwXHPBvhioljN9PQ'), 1.0),\n",
       " (('LKP0Yq9T7Ss6oiDZnVtQwQ', 'ZXyGw3Z1DyhK1sfNtpcyYA'), 1.0),\n",
       " (('LKP0Yq9T7Ss6oiDZnVtQwQ', 'ae7zi8F0B6l_JCITh1mXDg'), 1.0),\n",
       " (('LKP0Yq9T7Ss6oiDZnVtQwQ', 'h-ajC_UHD0QAyAzySN6g2A'), 1.0),\n",
       " (('LKP0Yq9T7Ss6oiDZnVtQwQ', 'k58KNO8Rya-q8njKq8-uBQ'), 1.0),\n",
       " (('LKP0Yq9T7Ss6oiDZnVtQwQ', 'tcWnoX_IfuDmlDl6o6y3_g'), 1.0),\n",
       " (('LaiylSIbrA3aPvOYtl-J4A', 'ZEq0WtRJD9Bl_vYgCsbfOg'), 1.0),\n",
       " (('Nf_Jw_W_CwOz5WJ7ApSMxg', 'WXlxViTwXHPBvhioljN9PQ'), 1.0),\n",
       " (('Nf_Jw_W_CwOz5WJ7ApSMxg', 'ZXyGw3Z1DyhK1sfNtpcyYA'), 1.0),\n",
       " (('Nf_Jw_W_CwOz5WJ7ApSMxg', 'ae7zi8F0B6l_JCITh1mXDg'), 1.0),\n",
       " (('Nf_Jw_W_CwOz5WJ7ApSMxg', 'h-ajC_UHD0QAyAzySN6g2A'), 1.0),\n",
       " (('Nf_Jw_W_CwOz5WJ7ApSMxg', 'k58KNO8Rya-q8njKq8-uBQ'), 1.0),\n",
       " (('Nf_Jw_W_CwOz5WJ7ApSMxg', 'tcWnoX_IfuDmlDl6o6y3_g'), 1.0),\n",
       " (('S1cjSFKcS5NVc3o1MkfpwA', 'mm9WYrFhiNqvHCyhQKw3Mg'), 1.0),\n",
       " (('SVC0CajvmYfH5uAq4JnGvg', 'ZZvfGGLnAkSBSUduV7KN-w'), 1.0),\n",
       " (('Si3aMsOVGSVlsc54iuiPwA', 'd5WLqmTMvmL7-RmUDVKqqQ'), 1.0),\n",
       " (('WXlxViTwXHPBvhioljN9PQ', 'ZXyGw3Z1DyhK1sfNtpcyYA'), 1.0),\n",
       " (('WXlxViTwXHPBvhioljN9PQ', 'ae7zi8F0B6l_JCITh1mXDg'), 1.0),\n",
       " (('WXlxViTwXHPBvhioljN9PQ', 'h-ajC_UHD0QAyAzySN6g2A'), 1.0),\n",
       " (('WXlxViTwXHPBvhioljN9PQ', 'k58KNO8Rya-q8njKq8-uBQ'), 1.0),\n",
       " (('WXlxViTwXHPBvhioljN9PQ', 'tcWnoX_IfuDmlDl6o6y3_g'), 1.0),\n",
       " (('ZXyGw3Z1DyhK1sfNtpcyYA', 'ae7zi8F0B6l_JCITh1mXDg'), 1.0),\n",
       " (('ZXyGw3Z1DyhK1sfNtpcyYA', 'h-ajC_UHD0QAyAzySN6g2A'), 1.0),\n",
       " (('ZXyGw3Z1DyhK1sfNtpcyYA', 'k58KNO8Rya-q8njKq8-uBQ'), 1.0),\n",
       " (('ZXyGw3Z1DyhK1sfNtpcyYA', 'tcWnoX_IfuDmlDl6o6y3_g'), 1.0),\n",
       " (('_m1ot2zZetDgjerAD2Sidg', 'vENR70IrUsDNTDebbuxyQA'), 1.0),\n",
       " (('ae7zi8F0B6l_JCITh1mXDg', 'h-ajC_UHD0QAyAzySN6g2A'), 1.0),\n",
       " (('ae7zi8F0B6l_JCITh1mXDg', 'k58KNO8Rya-q8njKq8-uBQ'), 1.0),\n",
       " (('ae7zi8F0B6l_JCITh1mXDg', 'tcWnoX_IfuDmlDl6o6y3_g'), 1.0),\n",
       " (('angEr2YcXmCl20s8WQu32w', 'frQs7y5qa-X1pvAM0sJe1w'), 1.0),\n",
       " (('gUu0uaiU7UEUVIgCdnqPVQ', 'jJDUCuPwVqwjbth3s92whA'), 1.0),\n",
       " (('h-ajC_UHD0QAyAzySN6g2A', 'k58KNO8Rya-q8njKq8-uBQ'), 1.0),\n",
       " (('h-ajC_UHD0QAyAzySN6g2A', 'tcWnoX_IfuDmlDl6o6y3_g'), 1.0),\n",
       " (('k58KNO8Rya-q8njKq8-uBQ', 'tcWnoX_IfuDmlDl6o6y3_g'), 1.0)]"
      ]
     },
     "execution_count": 5,
     "metadata": {},
     "output_type": "execute_result"
    }
   ],
   "source": [
    "edge_betweenness"
   ]
  },
  {
   "cell_type": "code",
   "execution_count": 88,
   "metadata": {},
   "outputs": [
    {
     "data": {
      "text/plain": [
       "222"
      ]
     },
     "execution_count": 88,
     "metadata": {},
     "output_type": "execute_result"
    }
   ],
   "source": [
    "len(user_in_edge_list)"
   ]
  },
  {
   "cell_type": "code",
   "execution_count": 91,
   "metadata": {},
   "outputs": [
    {
     "data": {
      "text/plain": [
       "498"
      ]
     },
     "execution_count": 91,
     "metadata": {},
     "output_type": "execute_result"
    }
   ],
   "source": [
    "len(edge_list.collect())"
   ]
  },
  {
   "cell_type": "code",
   "execution_count": 115,
   "metadata": {},
   "outputs": [],
   "source": [
    "root = \"E\"\n",
    "node_list = [\"A\",\"B\",\"C\",\"D\",\"E\",\"F\",\"G\"]\n",
    "edge_list = [(\"A\",\"C\"),(\"A\",\"B\"),(\"B\",\"C\"),(\"B\",\"D\"),(\"D\",\"G\"),(\"G\",\"F\"),(\"D\",\"F\"),(\"D\",\"E\"),(\"E\",\"F\")]"
   ]
  },
  {
   "cell_type": "code",
   "execution_count": 258,
   "metadata": {},
   "outputs": [],
   "source": [
    "# root = \"E\"\n",
    "# node_list = [\"A\",\"B\",\"C\",\"D\",\"E\",\"F\",\"G\"]\n",
    "# edge_list = [(\"A\",\"C\"),(\"A\",\"B\"),(\"B\",\"C\"),(\"B\",\"D\"),(\"D\",\"G\"),(\"G\",\"F\"),(\"D\",\"F\"),(\"D\",\"E\"),(\"E\",\"F\")]\n",
    "def bfs(root, node_list, edge_list):\n",
    "    ## remove root\n",
    "#     print(\"Root :\", root)\n",
    "#     print(\"node_list : \", node_list)\n",
    "#     print(\"edge_list : \", edge_list)\n",
    "\n",
    "    node_list_tmp = copy.deepcopy(node_list)\n",
    "    edge_list_tmp = []\n",
    "    node_list_tmp.remove(root)\n",
    "    \n",
    "    node_distance_dict = {}\n",
    "    node_distance_dict[0] = {root:[]}\n",
    "    \n",
    "    ## build tree\n",
    "    count = 0\n",
    "    stop = False\n",
    "    while stop == False:\n",
    "        count+=1\n",
    "        tmp = {}\n",
    "        rem_list = []\n",
    "        for edge in edge_list:\n",
    "            if edge[0] in node_distance_dict[count-1].keys():\n",
    "                if edge[1] in node_list_tmp:\n",
    "                    tmp[edge[1]] = tmp.get(edge[1], [])+[edge[0]]\n",
    "                    rem_list.append(edge[1])\n",
    "                    edge_list_tmp.append(edge)\n",
    "            elif edge[1] in node_distance_dict[count-1].keys():\n",
    "                if edge[0] in node_list_tmp:\n",
    "                    tmp[edge[0]] = tmp.get(edge[0], [])+[edge[1]]\n",
    "                    rem_list.append(edge[0])\n",
    "                    edge_list_tmp.append(edge)\n",
    "#             print(tmp)\n",
    "#             print(node_list)\n",
    "            \n",
    "            \n",
    "        rem_list = set(rem_list)\n",
    "        node_list_tmp = set(node_list_tmp).difference(rem_list)\n",
    "           \n",
    "    \n",
    "        if tmp == {}:\n",
    "            stop = True\n",
    "        else:\n",
    "            node_distance_dict[count] = tmp\n",
    "\n",
    "            \n",
    "    return node_distance_dict, edge_list_tmp\n",
    "            \n",
    "    "
   ]
  },
  {
   "cell_type": "code",
   "execution_count": 259,
   "metadata": {
    "scrolled": true
   },
   "outputs": [],
   "source": [
    "tree, edge_list_tmp = bfs(root, node_list, edge_list)"
   ]
  },
  {
   "cell_type": "code",
   "execution_count": 260,
   "metadata": {},
   "outputs": [
    {
     "data": {
      "text/plain": [
       "{0: {'E': []}, 1: {'D': ['E'], 'C': ['E']}, 2: {'A': ['C', 'D'], 'B': ['C']}}"
      ]
     },
     "execution_count": 260,
     "metadata": {},
     "output_type": "execute_result"
    }
   ],
   "source": [
    "tree"
   ]
  },
  {
   "cell_type": "code",
   "execution_count": 261,
   "metadata": {},
   "outputs": [
    {
     "data": {
      "text/plain": [
       "[('D', 'E'), ('C', 'E'), ('A', 'C'), ('A', 'D'), ('B', 'C')]"
      ]
     },
     "execution_count": 261,
     "metadata": {},
     "output_type": "execute_result"
    }
   ],
   "source": [
    "edge_list_tmp"
   ]
  },
  {
   "cell_type": "code",
   "execution_count": 262,
   "metadata": {},
   "outputs": [],
   "source": [
    "def edge_credit(tree, edge_list_tmp):\n",
    "    edge_credit_dict = {}\n",
    "    node_credit_dict = {}\n",
    "    dist_from_root = max(tree.keys())\n",
    "    \n",
    "    while dist_from_root>=0:\n",
    "        ## leaf node\n",
    "        if dist_from_root == max(tree.keys()):\n",
    "            for leaf_node in tree[dist_from_root].keys():\n",
    "                node_credit_dict[leaf_node] = 1\n",
    "                if len(tree[dist_from_root][leaf_node]) != 0:\n",
    "                    edge_credit = 1/len(tree[dist_from_root][leaf_node])\n",
    "                else:\n",
    "                    edge_credit = 0\n",
    "                for upper_node in tree[dist_from_root][leaf_node]:\n",
    "                    if (leaf_node, upper_node) in edge_list_tmp:\n",
    "                        edge_credit_dict[(leaf_node, upper_node)] = edge_credit\n",
    "                    if (upper_node, leaf_node) in edge_list_tmp:\n",
    "                        edge_credit_dict[(upper_node, leaf_node)] = edge_credit\n",
    "            dist_from_root -= 1\n",
    "\n",
    "        elif dist_from_root !=0:\n",
    "            for leaf_node in tree[dist_from_root].keys():\n",
    "                node_credit_dict[leaf_node] = 1\n",
    "                for edge in edge_credit_dict.keys():\n",
    "                    if leaf_node in edge:\n",
    "                        node_credit_dict[leaf_node]+= edge_credit_dict[edge]\n",
    "                if len(tree[dist_from_root][leaf_node]) !=0:\n",
    "                    edge_credit = 1/len(tree[dist_from_root][leaf_node]) * node_credit_dict[leaf_node]\n",
    "                else:\n",
    "                    edge_credit = 0\n",
    "                for upper_node in tree[dist_from_root][leaf_node]:\n",
    "                    if (leaf_node, upper_node) in edge_list_tmp:\n",
    "                        edge_credit_dict[(leaf_node, upper_node)] = edge_credit\n",
    "                    if (upper_node, leaf_node) in edge_list_tmp:\n",
    "                        edge_credit_dict[(upper_node, leaf_node)] = edge_credit\n",
    "            dist_from_root -= 1\n",
    "        \n",
    "        elif dist_from_root == 0:\n",
    "            for leaf_node in tree[dist_from_root].keys():\n",
    "                node_credit_dict[leaf_node] = 0\n",
    "                for edge in edge_credit_dict.keys():\n",
    "                    if leaf_node in edge:\n",
    "                        node_credit_dict[leaf_node]+= edge_credit_dict[edge]\n",
    "            dist_from_root -= 1\n",
    "            \n",
    "            \n",
    "                        \n",
    "    return edge_credit_dict, node_credit_dict\n",
    "            \n",
    "    "
   ]
  },
  {
   "cell_type": "code",
   "execution_count": 263,
   "metadata": {},
   "outputs": [
    {
     "name": "stdout",
     "output_type": "stream",
     "text": [
      "edge_credit_dict :  ({('A', 'C'): 0.5, ('A', 'D'): 0.5, ('B', 'C'): 1.0, ('D', 'E'): 1.5, ('C', 'E'): 2.5}, {'A': 1, 'B': 1, 'D': 1.5, 'C': 2.5, 'E': 4.0})\n",
      "node_credit_dict :  {'A': 1, 'B': 1, 'D': 1.5, 'C': 2.5, 'E': 4.0}\n"
     ]
    }
   ],
   "source": [
    "edge_credit_dict = edge_credit(tree, edge_list_tmp)\n",
    "print(\"edge_credit_dict : \", edge_credit_dict)\n",
    "print(\"node_credit_dict : \", node_credit_dict)"
   ]
  },
  {
   "cell_type": "code",
   "execution_count": 264,
   "metadata": {},
   "outputs": [],
   "source": [
    "## for each node, calculate the edge_credit_dict\n",
    "## then sum all edge credit, divide by 2"
   ]
  },
  {
   "cell_type": "code",
   "execution_count": 265,
   "metadata": {},
   "outputs": [],
   "source": [
    "edge_betweenness_dict = {}\n",
    "for node in node_list:\n",
    "    tree, edge_list_tmp = bfs(node, node_list, edge_list)\n",
    "    edge_credit_dict, node_credit_dict = edge_credit(tree, edge_list_tmp)\n",
    "    edge_betweenness_dict = {k: edge_betweenness_dict.get(k, 0) + edge_credit_dict.get(k, 0) for k in set(list(edge_betweenness_dict.keys())+list(edge_credit_dict.keys()))}\n",
    "    \n",
    "edge_betweenness_dict = {k : v/2 for k,v in edge_betweenness_dict.items()}\n",
    "    "
   ]
  },
  {
   "cell_type": "code",
   "execution_count": 255,
   "metadata": {},
   "outputs": [],
   "source": [
    "node_list = [\"A\",\"B\",\"C\",\"D\",\"E\"]\n",
    "edge_list = [(\"A\",\"C\"),(\"A\",\"B\"),(\"A\",\"D\"),(\"B\",\"C\"),(\"C\",\"D\"),(\"D\",\"E\"),(\"C\",\"E\")]"
   ]
  },
  {
   "cell_type": "code",
   "execution_count": 257,
   "metadata": {},
   "outputs": [
    {
     "data": {
      "text/plain": [
       "{('A', 'B'): 1.5,\n",
       " ('D', 'E'): 1.5,\n",
       " ('B', 'C'): 2.5,\n",
       " ('C', 'E'): 2.5,\n",
       " ('C', 'D'): 1.5,\n",
       " ('A', 'C'): 1.5,\n",
       " ('A', 'D'): 2.0}"
      ]
     },
     "execution_count": 257,
     "metadata": {},
     "output_type": "execute_result"
    }
   ],
   "source": [
    "edge_betweenness_dict"
   ]
  },
  {
   "cell_type": "code",
   "execution_count": 268,
   "metadata": {},
   "outputs": [
    {
     "data": {
      "text/plain": [
       "[(('A', 'C'), 0.5),\n",
       " (('A', 'D'), 0.5),\n",
       " (('B', 'C'), 1.0),\n",
       " (('D', 'E'), 1.5),\n",
       " (('C', 'E'), 2.5)]"
      ]
     },
     "execution_count": 268,
     "metadata": {},
     "output_type": "execute_result"
    }
   ],
   "source": [
    "list(edge_credit_dict.items())"
   ]
  },
  {
   "cell_type": "code",
   "execution_count": null,
   "metadata": {},
   "outputs": [],
   "source": []
  },
  {
   "cell_type": "code",
   "execution_count": null,
   "metadata": {},
   "outputs": [],
   "source": []
  },
  {
   "cell_type": "code",
   "execution_count": 9,
   "metadata": {
    "scrolled": true
   },
   "outputs": [
    {
     "ename": "Py4JJavaError",
     "evalue": "An error occurred while calling o320.loadClass.\n: java.lang.ClassNotFoundException: org.graphframes.GraphFramePythonAPI\n\tat java.net.URLClassLoader.findClass(URLClassLoader.java:382)\n\tat java.lang.ClassLoader.loadClass(ClassLoader.java:418)\n\tat java.lang.ClassLoader.loadClass(ClassLoader.java:351)\n\tat sun.reflect.NativeMethodAccessorImpl.invoke0(Native Method)\n\tat sun.reflect.NativeMethodAccessorImpl.invoke(NativeMethodAccessorImpl.java:62)\n\tat sun.reflect.DelegatingMethodAccessorImpl.invoke(DelegatingMethodAccessorImpl.java:43)\n\tat java.lang.reflect.Method.invoke(Method.java:498)\n\tat py4j.reflection.MethodInvoker.invoke(MethodInvoker.java:244)\n\tat py4j.reflection.ReflectionEngine.invoke(ReflectionEngine.java:357)\n\tat py4j.Gateway.invoke(Gateway.java:282)\n\tat py4j.commands.AbstractCommand.invokeMethod(AbstractCommand.java:132)\n\tat py4j.commands.CallCommand.execute(CallCommand.java:79)\n\tat py4j.GatewayConnection.run(GatewayConnection.java:238)\n\tat java.lang.Thread.run(Thread.java:748)\n",
     "output_type": "error",
     "traceback": [
      "\u001b[0;31m---------------------------------------------------------------------------\u001b[0m",
      "\u001b[0;31mPy4JJavaError\u001b[0m                             Traceback (most recent call last)",
      "\u001b[0;32m<ipython-input-9-932086fbd9af>\u001b[0m in \u001b[0;36m<module>\u001b[0;34m\u001b[0m\n\u001b[1;32m      1\u001b[0m \u001b[0;32mfrom\u001b[0m \u001b[0mgraphframes\u001b[0m \u001b[0;32mimport\u001b[0m \u001b[0;34m*\u001b[0m\u001b[0;34m\u001b[0m\u001b[0;34m\u001b[0m\u001b[0m\n\u001b[0;32m----> 2\u001b[0;31m \u001b[0mg\u001b[0m \u001b[0;34m=\u001b[0m \u001b[0mGraphFrame\u001b[0m\u001b[0;34m(\u001b[0m\u001b[0mvertices\u001b[0m\u001b[0;34m,\u001b[0m \u001b[0medges\u001b[0m\u001b[0;34m)\u001b[0m\u001b[0;34m\u001b[0m\u001b[0;34m\u001b[0m\u001b[0m\n\u001b[0m\u001b[1;32m      3\u001b[0m \u001b[0mprint\u001b[0m\u001b[0;34m(\u001b[0m\u001b[0mg\u001b[0m\u001b[0;34m)\u001b[0m\u001b[0;34m\u001b[0m\u001b[0;34m\u001b[0m\u001b[0m\n",
      "\u001b[0;32m/opt/anaconda3/envs/jaeyoung/lib/python3.7/site-packages/graphframes/graphframe.py\u001b[0m in \u001b[0;36m__init__\u001b[0;34m(self, v, e)\u001b[0m\n\u001b[1;32m     63\u001b[0m         \u001b[0mself\u001b[0m\u001b[0;34m.\u001b[0m\u001b[0m_sqlContext\u001b[0m \u001b[0;34m=\u001b[0m \u001b[0mv\u001b[0m\u001b[0;34m.\u001b[0m\u001b[0msql_ctx\u001b[0m\u001b[0;34m\u001b[0m\u001b[0;34m\u001b[0m\u001b[0m\n\u001b[1;32m     64\u001b[0m         \u001b[0mself\u001b[0m\u001b[0;34m.\u001b[0m\u001b[0m_sc\u001b[0m \u001b[0;34m=\u001b[0m \u001b[0mself\u001b[0m\u001b[0;34m.\u001b[0m\u001b[0m_sqlContext\u001b[0m\u001b[0;34m.\u001b[0m\u001b[0m_sc\u001b[0m\u001b[0;34m\u001b[0m\u001b[0;34m\u001b[0m\u001b[0m\n\u001b[0;32m---> 65\u001b[0;31m         \u001b[0mself\u001b[0m\u001b[0;34m.\u001b[0m\u001b[0m_jvm_gf_api\u001b[0m \u001b[0;34m=\u001b[0m \u001b[0m_java_api\u001b[0m\u001b[0;34m(\u001b[0m\u001b[0mself\u001b[0m\u001b[0;34m.\u001b[0m\u001b[0m_sc\u001b[0m\u001b[0;34m)\u001b[0m\u001b[0;34m\u001b[0m\u001b[0;34m\u001b[0m\u001b[0m\n\u001b[0m\u001b[1;32m     66\u001b[0m \u001b[0;34m\u001b[0m\u001b[0m\n\u001b[1;32m     67\u001b[0m         \u001b[0mself\u001b[0m\u001b[0;34m.\u001b[0m\u001b[0mID\u001b[0m \u001b[0;34m=\u001b[0m \u001b[0mself\u001b[0m\u001b[0;34m.\u001b[0m\u001b[0m_jvm_gf_api\u001b[0m\u001b[0;34m.\u001b[0m\u001b[0mID\u001b[0m\u001b[0;34m(\u001b[0m\u001b[0;34m)\u001b[0m\u001b[0;34m\u001b[0m\u001b[0;34m\u001b[0m\u001b[0m\n",
      "\u001b[0;32m/opt/anaconda3/envs/jaeyoung/lib/python3.7/site-packages/graphframes/graphframe.py\u001b[0m in \u001b[0;36m_java_api\u001b[0;34m(jsc)\u001b[0m\n\u001b[1;32m     36\u001b[0m \u001b[0;32mdef\u001b[0m \u001b[0m_java_api\u001b[0m\u001b[0;34m(\u001b[0m\u001b[0mjsc\u001b[0m\u001b[0;34m)\u001b[0m\u001b[0;34m:\u001b[0m\u001b[0;34m\u001b[0m\u001b[0;34m\u001b[0m\u001b[0m\n\u001b[1;32m     37\u001b[0m     \u001b[0mjavaClassName\u001b[0m \u001b[0;34m=\u001b[0m \u001b[0;34m\"org.graphframes.GraphFramePythonAPI\"\u001b[0m\u001b[0;34m\u001b[0m\u001b[0;34m\u001b[0m\u001b[0m\n\u001b[0;32m---> 38\u001b[0;31m     \u001b[0;32mreturn\u001b[0m \u001b[0mjsc\u001b[0m\u001b[0;34m.\u001b[0m\u001b[0m_jvm\u001b[0m\u001b[0;34m.\u001b[0m\u001b[0mThread\u001b[0m\u001b[0;34m.\u001b[0m\u001b[0mcurrentThread\u001b[0m\u001b[0;34m(\u001b[0m\u001b[0;34m)\u001b[0m\u001b[0;34m.\u001b[0m\u001b[0mgetContextClassLoader\u001b[0m\u001b[0;34m(\u001b[0m\u001b[0;34m)\u001b[0m\u001b[0;34m.\u001b[0m\u001b[0mloadClass\u001b[0m\u001b[0;34m(\u001b[0m\u001b[0mjavaClassName\u001b[0m\u001b[0;34m)\u001b[0m\u001b[0;31m \u001b[0m\u001b[0;31m\\\u001b[0m\u001b[0;34m\u001b[0m\u001b[0;34m\u001b[0m\u001b[0m\n\u001b[0m\u001b[1;32m     39\u001b[0m             \u001b[0;34m.\u001b[0m\u001b[0mnewInstance\u001b[0m\u001b[0;34m(\u001b[0m\u001b[0;34m)\u001b[0m\u001b[0;34m\u001b[0m\u001b[0;34m\u001b[0m\u001b[0m\n\u001b[1;32m     40\u001b[0m \u001b[0;34m\u001b[0m\u001b[0m\n",
      "\u001b[0;32m~/.local/lib/python3.7/site-packages/py4j/java_gateway.py\u001b[0m in \u001b[0;36m__call__\u001b[0;34m(self, *args)\u001b[0m\n\u001b[1;32m   1255\u001b[0m         \u001b[0manswer\u001b[0m \u001b[0;34m=\u001b[0m \u001b[0mself\u001b[0m\u001b[0;34m.\u001b[0m\u001b[0mgateway_client\u001b[0m\u001b[0;34m.\u001b[0m\u001b[0msend_command\u001b[0m\u001b[0;34m(\u001b[0m\u001b[0mcommand\u001b[0m\u001b[0;34m)\u001b[0m\u001b[0;34m\u001b[0m\u001b[0;34m\u001b[0m\u001b[0m\n\u001b[1;32m   1256\u001b[0m         return_value = get_return_value(\n\u001b[0;32m-> 1257\u001b[0;31m             answer, self.gateway_client, self.target_id, self.name)\n\u001b[0m\u001b[1;32m   1258\u001b[0m \u001b[0;34m\u001b[0m\u001b[0m\n\u001b[1;32m   1259\u001b[0m         \u001b[0;32mfor\u001b[0m \u001b[0mtemp_arg\u001b[0m \u001b[0;32min\u001b[0m \u001b[0mtemp_args\u001b[0m\u001b[0;34m:\u001b[0m\u001b[0;34m\u001b[0m\u001b[0;34m\u001b[0m\u001b[0m\n",
      "\u001b[0;32m~/.local/lib/python3.7/site-packages/pyspark/sql/utils.py\u001b[0m in \u001b[0;36mdeco\u001b[0;34m(*a, **kw)\u001b[0m\n\u001b[1;32m     61\u001b[0m     \u001b[0;32mdef\u001b[0m \u001b[0mdeco\u001b[0m\u001b[0;34m(\u001b[0m\u001b[0;34m*\u001b[0m\u001b[0ma\u001b[0m\u001b[0;34m,\u001b[0m \u001b[0;34m**\u001b[0m\u001b[0mkw\u001b[0m\u001b[0;34m)\u001b[0m\u001b[0;34m:\u001b[0m\u001b[0;34m\u001b[0m\u001b[0;34m\u001b[0m\u001b[0m\n\u001b[1;32m     62\u001b[0m         \u001b[0;32mtry\u001b[0m\u001b[0;34m:\u001b[0m\u001b[0;34m\u001b[0m\u001b[0;34m\u001b[0m\u001b[0m\n\u001b[0;32m---> 63\u001b[0;31m             \u001b[0;32mreturn\u001b[0m \u001b[0mf\u001b[0m\u001b[0;34m(\u001b[0m\u001b[0;34m*\u001b[0m\u001b[0ma\u001b[0m\u001b[0;34m,\u001b[0m \u001b[0;34m**\u001b[0m\u001b[0mkw\u001b[0m\u001b[0;34m)\u001b[0m\u001b[0;34m\u001b[0m\u001b[0;34m\u001b[0m\u001b[0m\n\u001b[0m\u001b[1;32m     64\u001b[0m         \u001b[0;32mexcept\u001b[0m \u001b[0mpy4j\u001b[0m\u001b[0;34m.\u001b[0m\u001b[0mprotocol\u001b[0m\u001b[0;34m.\u001b[0m\u001b[0mPy4JJavaError\u001b[0m \u001b[0;32mas\u001b[0m \u001b[0me\u001b[0m\u001b[0;34m:\u001b[0m\u001b[0;34m\u001b[0m\u001b[0;34m\u001b[0m\u001b[0m\n\u001b[1;32m     65\u001b[0m             \u001b[0ms\u001b[0m \u001b[0;34m=\u001b[0m \u001b[0me\u001b[0m\u001b[0;34m.\u001b[0m\u001b[0mjava_exception\u001b[0m\u001b[0;34m.\u001b[0m\u001b[0mtoString\u001b[0m\u001b[0;34m(\u001b[0m\u001b[0;34m)\u001b[0m\u001b[0;34m\u001b[0m\u001b[0;34m\u001b[0m\u001b[0m\n",
      "\u001b[0;32m~/.local/lib/python3.7/site-packages/py4j/protocol.py\u001b[0m in \u001b[0;36mget_return_value\u001b[0;34m(answer, gateway_client, target_id, name)\u001b[0m\n\u001b[1;32m    326\u001b[0m                 raise Py4JJavaError(\n\u001b[1;32m    327\u001b[0m                     \u001b[0;34m\"An error occurred while calling {0}{1}{2}.\\n\"\u001b[0m\u001b[0;34m.\u001b[0m\u001b[0;34m\u001b[0m\u001b[0;34m\u001b[0m\u001b[0m\n\u001b[0;32m--> 328\u001b[0;31m                     format(target_id, \".\", name), value)\n\u001b[0m\u001b[1;32m    329\u001b[0m             \u001b[0;32melse\u001b[0m\u001b[0;34m:\u001b[0m\u001b[0;34m\u001b[0m\u001b[0;34m\u001b[0m\u001b[0m\n\u001b[1;32m    330\u001b[0m                 raise Py4JError(\n",
      "\u001b[0;31mPy4JJavaError\u001b[0m: An error occurred while calling o320.loadClass.\n: java.lang.ClassNotFoundException: org.graphframes.GraphFramePythonAPI\n\tat java.net.URLClassLoader.findClass(URLClassLoader.java:382)\n\tat java.lang.ClassLoader.loadClass(ClassLoader.java:418)\n\tat java.lang.ClassLoader.loadClass(ClassLoader.java:351)\n\tat sun.reflect.NativeMethodAccessorImpl.invoke0(Native Method)\n\tat sun.reflect.NativeMethodAccessorImpl.invoke(NativeMethodAccessorImpl.java:62)\n\tat sun.reflect.DelegatingMethodAccessorImpl.invoke(DelegatingMethodAccessorImpl.java:43)\n\tat java.lang.reflect.Method.invoke(Method.java:498)\n\tat py4j.reflection.MethodInvoker.invoke(MethodInvoker.java:244)\n\tat py4j.reflection.ReflectionEngine.invoke(ReflectionEngine.java:357)\n\tat py4j.Gateway.invoke(Gateway.java:282)\n\tat py4j.commands.AbstractCommand.invokeMethod(AbstractCommand.java:132)\n\tat py4j.commands.CallCommand.execute(CallCommand.java:79)\n\tat py4j.GatewayConnection.run(GatewayConnection.java:238)\n\tat java.lang.Thread.run(Thread.java:748)\n"
     ]
    }
   ],
   "source": [
    "from graphframes import *\n",
    "g = GraphFrame(vertices, edges)\n",
    "print(g)"
   ]
  },
  {
   "cell_type": "code",
   "execution_count": 5,
   "metadata": {},
   "outputs": [],
   "source": [
    "from graphframes import graphframe"
   ]
  },
  {
   "cell_type": "code",
   "execution_count": 28,
   "metadata": {},
   "outputs": [
    {
     "data": {
      "text/plain": [
       "(('m1IVpXClMox1VGw5hO2LhQ', 'JM0GL6Dx4EuZ1mprLk5Gyg'), 8)"
      ]
     },
     "execution_count": 28,
     "metadata": {},
     "output_type": "execute_result"
    }
   ],
   "source": [
    "edge_list.collect()[3]"
   ]
  },
  {
   "cell_type": "code",
   "execution_count": 21,
   "metadata": {},
   "outputs": [
    {
     "ename": "AttributeError",
     "evalue": "'GroupedData' object has no attribute 'show'",
     "output_type": "error",
     "traceback": [
      "\u001b[0;31m---------------------------------------------------------------------------\u001b[0m",
      "\u001b[0;31mAttributeError\u001b[0m                            Traceback (most recent call last)",
      "\u001b[0;32m<ipython-input-21-dcddfc29ce8c>\u001b[0m in \u001b[0;36m<module>\u001b[0;34m\u001b[0m\n\u001b[0;32m----> 1\u001b[0;31m \u001b[0medges\u001b[0m\u001b[0;34m.\u001b[0m\u001b[0mgroupby\u001b[0m\u001b[0;34m(\u001b[0m\u001b[0;34m\"user1\"\u001b[0m\u001b[0;34m)\u001b[0m\u001b[0;34m.\u001b[0m\u001b[0mshow\u001b[0m\u001b[0;34m(\u001b[0m\u001b[0;34m)\u001b[0m\u001b[0;34m\u001b[0m\u001b[0;34m\u001b[0m\u001b[0m\n\u001b[0m",
      "\u001b[0;31mAttributeError\u001b[0m: 'GroupedData' object has no attribute 'show'"
     ]
    }
   ],
   "source": [
    "edges.groupby(\"user1\").show()"
   ]
  },
  {
   "cell_type": "code",
   "execution_count": null,
   "metadata": {},
   "outputs": [],
   "source": [
    "df.groupBy(\"columnA\").agg(sort_array(collect_list(\"columnB\")))"
   ]
  },
  {
   "cell_type": "code",
   "execution_count": 51,
   "metadata": {},
   "outputs": [],
   "source": [
    "import pyspark.sql.functions as fc\n",
    "from pyspark.sql.functions import size\n",
    "\n",
    "edges = edges.groupBy(\"user1\").agg(fc.sort_array(fc.collect_list(\"user2\")).alias(\"collected\"))\n",
    "edges = edges.withColumn(\"len_collected\", size(\"collected\"))\n",
    "edges = edges.orderBy(col(\"len_collected\"), col(\"collected\"))\n"
   ]
  },
  {
   "cell_type": "code",
   "execution_count": 52,
   "metadata": {},
   "outputs": [
    {
     "name": "stdout",
     "output_type": "stream",
     "text": [
      "+--------------------+--------------------+\n",
      "|               user1|           collected|\n",
      "+--------------------+--------------------+\n",
      "|m1IVpXClMox1VGw5h...|[903YwVSoAKyzudc8...|\n",
      "|OoyQYSeYNyRVOmdO3...|[JM0GL6Dx4EuZ1mpr...|\n",
      "|JM0GL6Dx4EuZ1mprL...|[7G8w2SnaC-qDVQ7_...|\n",
      "|l-1cva9rA8_ugLrtS...|[Hv_q_ZnSIoZwdcoH...|\n",
      "|kKTcYPz47sCDH1_yl...|[0QREkWHGO8-Z_70q...|\n",
      "|1KQi8Ymatd4ySAd4f...|[0FVcoJko1kfZCrJR...|\n",
      "|MwpK7PqQX7fgTFM2P...|[fLnkI1uHtXEsjtF6...|\n",
      "|fcWM-oqjgS94yi1IN...|[e5kg9bLvlJz-MEUr...|\n",
      "|4pc_EyanaC3ARh0MZ...|[0FVcoJko1kfZCrJR...|\n",
      "|R4l3ONHzGBakKKNo4...|[bSUS0YcvS7UelmHv...|\n",
      "|j8Dts8irvVBwEhEEa...|[0FVcoJko1kfZCrJR...|\n",
      "|2GUjO7NU88cPXpoff...|[6xi9tBoZ6r_v41u_...|\n",
      "|ZZvfGGLnAkSBSUduV...|[A-U-K9z9oraMH7eB...|\n",
      "|A-U-K9z9oraMH7eBZ...|[4ONcRRisDZkbV1cv...|\n",
      "|2quguRdKBzul3GpRi...|[_VTEyUzzH92X3w-I...|\n",
      "|453V8MlGr8y61PpsD...|[gH0dJQhyKUOVCKQA...|\n",
      "|BDjiEmXljD2ZHT61I...|[0FVcoJko1kfZCrJR...|\n",
      "|bE7Yd0jI_P6g27MWE...|[0FVcoJko1kfZCrJR...|\n",
      "|SX_SMrddkDU5dySbs...|[cyuDrrG5eEK-TZI8...|\n",
      "|ORJnGXXkS9tQBTNyP...|[cyuDrrG5eEK-TZI8...|\n",
      "+--------------------+--------------------+\n",
      "only showing top 20 rows\n",
      "\n"
     ]
    }
   ],
   "source": [
    "edges.show()"
   ]
  },
  {
   "cell_type": "code",
   "execution_count": 70,
   "metadata": {},
   "outputs": [],
   "source": [
    "from pyspark.sql.functions import size\n",
    "\n",
    "# countdf = df.select('*',size('products').alias('product_cnt'))\n",
    "\n",
    "\n",
    "edges = edges.withColumn(\"len_collected\", size(\"collected\"))"
   ]
  },
  {
   "cell_type": "code",
   "execution_count": 80,
   "metadata": {},
   "outputs": [
    {
     "name": "stdout",
     "output_type": "stream",
     "text": [
      "+--------------------+--------------------+-------------+\n",
      "|               user1|           collected|len_collected|\n",
      "+--------------------+--------------------+-------------+\n",
      "|p9942XebvxZ9ubHm4...|[0FVcoJko1kfZCrJR...|            1|\n",
      "|TjsBbWAfwxWEXPxaL...|[0FVcoJko1kfZCrJR...|            1|\n",
      "|BDjiEmXljD2ZHT61I...|[0FVcoJko1kfZCrJR...|            1|\n",
      "|UAB1Zyg6Q0oEpXeYR...|[0FVcoJko1kfZCrJR...|            1|\n",
      "|yCaDISH0R8e5U376z...|[0FVcoJko1kfZCrJR...|            1|\n",
      "|bbK1mL-AyYCHZncDQ...|[0FVcoJko1kfZCrJR...|            1|\n",
      "|7Vfy39A_totC-w70q...|[0FVcoJko1kfZCrJR...|            1|\n",
      "|j8Dts8irvVBwEhEEa...|[0FVcoJko1kfZCrJR...|            1|\n",
      "|Ams0iLRd0AhZZectG...|[0FVcoJko1kfZCrJR...|            1|\n",
      "|kKTcYPz47sCDH1_yl...|[0QREkWHGO8-Z_70q...|            1|\n",
      "|YVQFzWm0H72mLUh-8...|[46HhzhpBfTdTSB5c...|            1|\n",
      "|frQs7y5qa-X1pvAM0...|[6YmRpoIuiq8I19Q8...|            1|\n",
      "|2GUjO7NU88cPXpoff...|[6xi9tBoZ6r_v41u_...|            1|\n",
      "|97j2wkFU46OOgm6Er...|[EiwxlbR8fb68lMgE...|            1|\n",
      "|LKP0Yq9T7Ss6oiDZn...|[FyQrUamokaPLDrBx...|            1|\n",
      "|lJFBgSAccsMGwIjfD...|[Gr-MqCunME2K_Kms...|            1|\n",
      "|tekHDsd0fskYG3tqu...|[JM0GL6Dx4EuZ1mpr...|            1|\n",
      "|8oYMqhC5fhqAK_yxR...|[JM0GL6Dx4EuZ1mpr...|            1|\n",
      "|OoyQYSeYNyRVOmdO3...|[JM0GL6Dx4EuZ1mpr...|            1|\n",
      "|UYcmGbelzRa0Q6Jqz...|[JM0GL6Dx4EuZ1mpr...|            1|\n",
      "+--------------------+--------------------+-------------+\n",
      "only showing top 20 rows\n",
      "\n"
     ]
    }
   ],
   "source": [
    "edges.orderBy(col(\"len_collected\"), col(\"collected\")).show()"
   ]
  },
  {
   "cell_type": "code",
   "execution_count": 74,
   "metadata": {
    "scrolled": true
   },
   "outputs": [
    {
     "data": {
      "text/html": [
       "<div>\n",
       "<style scoped>\n",
       "    .dataframe tbody tr th:only-of-type {\n",
       "        vertical-align: middle;\n",
       "    }\n",
       "\n",
       "    .dataframe tbody tr th {\n",
       "        vertical-align: top;\n",
       "    }\n",
       "\n",
       "    .dataframe thead th {\n",
       "        text-align: right;\n",
       "    }\n",
       "</style>\n",
       "<table border=\"1\" class=\"dataframe\">\n",
       "  <thead>\n",
       "    <tr style=\"text-align: right;\">\n",
       "      <th></th>\n",
       "      <th>user1</th>\n",
       "      <th>collected</th>\n",
       "      <th>len_collected</th>\n",
       "    </tr>\n",
       "  </thead>\n",
       "  <tbody>\n",
       "    <tr>\n",
       "      <th>0</th>\n",
       "      <td>m1IVpXClMox1VGw5hO2LhQ</td>\n",
       "      <td>[903YwVSoAKyzudc8LH_HMA, JM0GL6Dx4EuZ1mprLk5Gy...</td>\n",
       "      <td>4</td>\n",
       "    </tr>\n",
       "    <tr>\n",
       "      <th>1</th>\n",
       "      <td>OoyQYSeYNyRVOmdO3tsxYA</td>\n",
       "      <td>[JM0GL6Dx4EuZ1mprLk5Gyg]</td>\n",
       "      <td>1</td>\n",
       "    </tr>\n",
       "    <tr>\n",
       "      <th>2</th>\n",
       "      <td>JM0GL6Dx4EuZ1mprLk5Gyg</td>\n",
       "      <td>[7G8w2SnaC-qDVQ7_GqTxMg, JRqMFKGxx6DnTGZrxwQZa...</td>\n",
       "      <td>5</td>\n",
       "    </tr>\n",
       "    <tr>\n",
       "      <th>3</th>\n",
       "      <td>l-1cva9rA8_ugLrtSdKAqA</td>\n",
       "      <td>[Hv_q_ZnSIoZwdcoH0CyV2Q, KBoIRjxSW7OWczv8OS9Be...</td>\n",
       "      <td>3</td>\n",
       "    </tr>\n",
       "    <tr>\n",
       "      <th>4</th>\n",
       "      <td>kKTcYPz47sCDH1_ylnE4ZQ</td>\n",
       "      <td>[0QREkWHGO8-Z_70qx1BIWw]</td>\n",
       "      <td>1</td>\n",
       "    </tr>\n",
       "    <tr>\n",
       "      <th>...</th>\n",
       "      <td>...</td>\n",
       "      <td>...</td>\n",
       "      <td>...</td>\n",
       "    </tr>\n",
       "    <tr>\n",
       "      <th>143</th>\n",
       "      <td>e5kg9bLvlJz-MEUrGjIeVQ</td>\n",
       "      <td>[37HswRimgBEf7_US-c3CDA, DPtOaWemjBPvFiZJBi0m8...</td>\n",
       "      <td>8</td>\n",
       "    </tr>\n",
       "    <tr>\n",
       "      <th>144</th>\n",
       "      <td>BE4fE4R3TaVn8xy4sYYjbg</td>\n",
       "      <td>[FyQrUamokaPLDrBxGmzPnA, LKP0Yq9T7Ss6oiDZnVtQw...</td>\n",
       "      <td>4</td>\n",
       "    </tr>\n",
       "    <tr>\n",
       "      <th>145</th>\n",
       "      <td>23y0Nv9FFWn_3UWudpnFMA</td>\n",
       "      <td>[eqWEgMH-DCP74i82BEAZzw]</td>\n",
       "      <td>1</td>\n",
       "    </tr>\n",
       "    <tr>\n",
       "      <th>146</th>\n",
       "      <td>Tk_FWXueutKii3f9yJFsdw</td>\n",
       "      <td>[bE7Yd0jI_P6g27MWEKKalA]</td>\n",
       "      <td>1</td>\n",
       "    </tr>\n",
       "    <tr>\n",
       "      <th>147</th>\n",
       "      <td>bSUS0YcvS7UelmHvCzNWBA</td>\n",
       "      <td>[2quguRdKBzul3GpRi9e1mA, DkLSyxogCcJXY5DbTZ-f2...</td>\n",
       "      <td>7</td>\n",
       "    </tr>\n",
       "  </tbody>\n",
       "</table>\n",
       "<p>148 rows × 3 columns</p>\n",
       "</div>"
      ],
      "text/plain": [
       "                      user1  \\\n",
       "0    m1IVpXClMox1VGw5hO2LhQ   \n",
       "1    OoyQYSeYNyRVOmdO3tsxYA   \n",
       "2    JM0GL6Dx4EuZ1mprLk5Gyg   \n",
       "3    l-1cva9rA8_ugLrtSdKAqA   \n",
       "4    kKTcYPz47sCDH1_ylnE4ZQ   \n",
       "..                      ...   \n",
       "143  e5kg9bLvlJz-MEUrGjIeVQ   \n",
       "144  BE4fE4R3TaVn8xy4sYYjbg   \n",
       "145  23y0Nv9FFWn_3UWudpnFMA   \n",
       "146  Tk_FWXueutKii3f9yJFsdw   \n",
       "147  bSUS0YcvS7UelmHvCzNWBA   \n",
       "\n",
       "                                             collected  len_collected  \n",
       "0    [903YwVSoAKyzudc8LH_HMA, JM0GL6Dx4EuZ1mprLk5Gy...              4  \n",
       "1                             [JM0GL6Dx4EuZ1mprLk5Gyg]              1  \n",
       "2    [7G8w2SnaC-qDVQ7_GqTxMg, JRqMFKGxx6DnTGZrxwQZa...              5  \n",
       "3    [Hv_q_ZnSIoZwdcoH0CyV2Q, KBoIRjxSW7OWczv8OS9Be...              3  \n",
       "4                             [0QREkWHGO8-Z_70qx1BIWw]              1  \n",
       "..                                                 ...            ...  \n",
       "143  [37HswRimgBEf7_US-c3CDA, DPtOaWemjBPvFiZJBi0m8...              8  \n",
       "144  [FyQrUamokaPLDrBxGmzPnA, LKP0Yq9T7Ss6oiDZnVtQw...              4  \n",
       "145                           [eqWEgMH-DCP74i82BEAZzw]              1  \n",
       "146                           [bE7Yd0jI_P6g27MWEKKalA]              1  \n",
       "147  [2quguRdKBzul3GpRi9e1mA, DkLSyxogCcJXY5DbTZ-f2...              7  \n",
       "\n",
       "[148 rows x 3 columns]"
      ]
     },
     "execution_count": 74,
     "metadata": {},
     "output_type": "execute_result"
    }
   ],
   "source": [
    "edges.toPandas()"
   ]
  },
  {
   "cell_type": "code",
   "execution_count": 61,
   "metadata": {
    "scrolled": true
   },
   "outputs": [
    {
     "ename": "NameError",
     "evalue": "name 'length' is not defined",
     "output_type": "error",
     "traceback": [
      "\u001b[0;31m---------------------------------------------------------------------------\u001b[0m",
      "\u001b[0;31mNameError\u001b[0m                                 Traceback (most recent call last)",
      "\u001b[0;32m<ipython-input-61-043812275f20>\u001b[0m in \u001b[0;36m<module>\u001b[0;34m\u001b[0m\n\u001b[0;32m----> 1\u001b[0;31m \u001b[0medges\u001b[0m\u001b[0;34m.\u001b[0m\u001b[0mindex\u001b[0m \u001b[0;34m=\u001b[0m\u001b[0mlength\u001b[0m\u001b[0;34m(\u001b[0m\u001b[0medges\u001b[0m\u001b[0;34m.\u001b[0m\u001b[0mcollected\u001b[0m\u001b[0;34m)\u001b[0m\u001b[0;34m\u001b[0m\u001b[0;34m\u001b[0m\u001b[0m\n\u001b[0m",
      "\u001b[0;31mNameError\u001b[0m: name 'length' is not defined"
     ]
    }
   ],
   "source": [
    "edges.index =length(edges.collected)"
   ]
  },
  {
   "cell_type": "code",
   "execution_count": null,
   "metadata": {},
   "outputs": [],
   "source": [
    "df.index = df['Review'].str.len()\n",
    "df = df.sort_index(ascending=False).reset_index(drop=True)"
   ]
  },
  {
   "cell_type": "code",
   "execution_count": null,
   "metadata": {},
   "outputs": [],
   "source": []
  },
  {
   "cell_type": "code",
   "execution_count": null,
   "metadata": {},
   "outputs": [],
   "source": []
  },
  {
   "cell_type": "code",
   "execution_count": 67,
   "metadata": {},
   "outputs": [],
   "source": [
    "paragraph = \"a, a, a, a, b,b,b,c, c\"\n",
    "banned = [\"a\"]"
   ]
  },
  {
   "cell_type": "code",
   "execution_count": 68,
   "metadata": {},
   "outputs": [],
   "source": [
    "paragraph = re.sub(r'[^\\x00-\\x7F]+',' ', paragraph)"
   ]
  },
  {
   "cell_type": "code",
   "execution_count": 83,
   "metadata": {},
   "outputs": [],
   "source": [
    "import re\n",
    "import collections\n",
    "\n",
    "paragraph = paragraph.lower()\n",
    "paragraph = paragraph.replace(\",\", \" \")\n",
    "paragraph = paragraph.replace(\"  \", \" \")\n",
    "words = paragraph.split(\" \")\n",
    "\n",
    "words = [re.sub(r\"[^\\w]\", '', word) for word in words]\n",
    "words = [word for word in words if word not in banned]\n",
    "word_counted = collections.Counter(words)\n",
    "\n",
    "max_count = max(word_counted.values())\n",
    "\n",
    "for word in word_counted.keys():\n",
    "    if word_counted[word] == max_count:\n",
    "        answer = word"
   ]
  },
  {
   "cell_type": "code",
   "execution_count": 84,
   "metadata": {},
   "outputs": [
    {
     "data": {
      "text/plain": [
       "['b', 'b', 'b', 'c', 'c']"
      ]
     },
     "execution_count": 84,
     "metadata": {},
     "output_type": "execute_result"
    }
   ],
   "source": [
    "words"
   ]
  },
  {
   "cell_type": "code",
   "execution_count": 85,
   "metadata": {},
   "outputs": [
    {
     "data": {
      "text/plain": [
       "'a a a a b b b c c'"
      ]
     },
     "execution_count": 85,
     "metadata": {},
     "output_type": "execute_result"
    }
   ],
   "source": [
    "paragraph"
   ]
  },
  {
   "cell_type": "code",
   "execution_count": 86,
   "metadata": {},
   "outputs": [],
   "source": [
    "a = \"abc\"\n"
   ]
  },
  {
   "cell_type": "code",
   "execution_count": 181,
   "metadata": {},
   "outputs": [],
   "source": [
    "s = \"abb\""
   ]
  },
  {
   "cell_type": "code",
   "execution_count": 182,
   "metadata": {},
   "outputs": [],
   "source": [
    "char_list = list(s)\n",
    "longest_len = 0\n",
    "answer = \"\"\n",
    "for idx1 in range(len(char_list)):\n",
    "    for idx2 in range(len(char_list)):\n",
    "        if idx1<=idx2:\n",
    "            if len(char_list[idx1:idx2:1])>longest_len:\n",
    "                if char_list[idx1:idx2:1] == char_list[idx1:idx2][::-1]:\n",
    "                    longest_len = len(char_list[idx1:idx2:1])\n",
    "                    answer  = char_list[idx1:idx2:1]\n",
    "\n",
    "a = \"\"\n",
    "for char in answer:\n",
    "    a+=char"
   ]
  },
  {
   "cell_type": "code",
   "execution_count": 183,
   "metadata": {},
   "outputs": [
    {
     "data": {
      "text/plain": [
       "['a']"
      ]
     },
     "execution_count": 183,
     "metadata": {},
     "output_type": "execute_result"
    }
   ],
   "source": [
    "answer"
   ]
  },
  {
   "cell_type": "code",
   "execution_count": 184,
   "metadata": {},
   "outputs": [
    {
     "data": {
      "text/plain": [
       "1"
      ]
     },
     "execution_count": 184,
     "metadata": {},
     "output_type": "execute_result"
    }
   ],
   "source": [
    "longest_len"
   ]
  },
  {
   "cell_type": "code",
   "execution_count": 420,
   "metadata": {},
   "outputs": [],
   "source": [
    "# height = [0,1,0,2,1,0,1,3,2,1,2,1]\n",
    "# height = [4,2,0,3,2,5]\n",
    "height = [4,2,3]"
   ]
  },
  {
   "cell_type": "code",
   "execution_count": 421,
   "metadata": {},
   "outputs": [
    {
     "data": {
      "text/plain": [
       "[4, 2, 3]"
      ]
     },
     "execution_count": 421,
     "metadata": {},
     "output_type": "execute_result"
    }
   ],
   "source": [
    "height"
   ]
  },
  {
   "cell_type": "code",
   "execution_count": 422,
   "metadata": {},
   "outputs": [
    {
     "name": "stdout",
     "output_type": "stream",
     "text": [
      "4\n",
      "0\n",
      "front : 0\n",
      "####################\n",
      "0 3\n",
      "(0, 3, 1, 4)\n",
      "3\n",
      "2\n",
      "1\n",
      "1 2\n",
      "back : 1\n"
     ]
    }
   ],
   "source": [
    "\n",
    "\n",
    "\n",
    "max_val = max(height)\n",
    "max_idx = 0\n",
    "for idx, val in enumerate(height):\n",
    "    if val == max_val:\n",
    "        max_idx = idx\n",
    "height1 = height[:max_idx+1]\n",
    "height2 = height[max_idx:][::-1]\n",
    "print(max_val)\n",
    "print(max_idx)\n",
    "\n",
    "def ftn(height):\n",
    "    res = 0\n",
    "    pointer = -1\n",
    "\n",
    "    for idx1, val1 in enumerate(height[:-1]):\n",
    "        height.append(0)\n",
    "        print(idx1, val1)\n",
    "        if val1>height[idx1+1]:\n",
    "            tmp = False\n",
    "            low = 10*100\n",
    "            for idx2, val2 in enumerate(height[idx1+1:]):\n",
    "                if val2>=val1 and tmp == False and idx1>pointer:\n",
    "#                     print((idx1, val1, idx2, val2))\n",
    "                    tmp = True\n",
    "                    res+=idx2*min(val1,val2)\n",
    "#                     print(idx2*min(val1,val2))\n",
    "                    res-=sum(height[idx1+1:idx1+idx2+1])\n",
    "#                     print(sum(height[idx1+1:idx1+idx2+1]))\n",
    "                    pointer = idx1 + idx2\n",
    "#                     print(res)\n",
    "                    break\n",
    "                elif tmp == False:\n",
    "\n",
    "                    continue\n",
    "                break\n",
    "    return res\n",
    "\n",
    "print(\"front :\" ,ftn(height1))\n",
    "print(\"####################\")\n",
    "print(\"back :\" ,ftn(height2))\n",
    "\n",
    "# print(ftn(height1)+ftn(height2))"
   ]
  },
  {
   "cell_type": "code",
   "execution_count": 423,
   "metadata": {},
   "outputs": [
    {
     "data": {
      "text/plain": [
       "[4]"
      ]
     },
     "execution_count": 423,
     "metadata": {},
     "output_type": "execute_result"
    }
   ],
   "source": [
    "height1"
   ]
  },
  {
   "cell_type": "code",
   "execution_count": 424,
   "metadata": {},
   "outputs": [
    {
     "data": {
      "text/plain": [
       "[3, 2, 4, 0, 0]"
      ]
     },
     "execution_count": 424,
     "metadata": {},
     "output_type": "execute_result"
    }
   ],
   "source": [
    "height2"
   ]
  },
  {
   "cell_type": "code",
   "execution_count": null,
   "metadata": {},
   "outputs": [],
   "source": [
    "class Solution:\n",
    "    def longestPalindrome(self, s: str) -> str:\n",
    "        if len(s) ==1:\n",
    "            return s\n",
    "        char_list = list(s)\n",
    "        longest_len = 0\n",
    "        answer = \"\"\n",
    "        for idx1 in range(len(char_list)+1):\n",
    "            for idx2 in range(len(char_list)+1):\n",
    "                if idx1<=idx2:\n",
    "                    if len(char_list[idx1:idx2:1])>longest_len:\n",
    "                        if char_list[idx1:idx2:1] == char_list[idx1:idx2][::-1]:\n",
    "                            longest_len = len(char_list[idx1:idx2:1])\n",
    "                            answer  = char_list[idx1:idx2:1]\n",
    "                            \n",
    "        a = \"\"\n",
    "        for char in answer:\n",
    "            a+=char\n",
    "        return a"
   ]
  }
 ],
 "metadata": {
  "kernelspec": {
   "display_name": "Python 3",
   "language": "python",
   "name": "python3"
  },
  "language_info": {
   "codemirror_mode": {
    "name": "ipython",
    "version": 3
   },
   "file_extension": ".py",
   "mimetype": "text/x-python",
   "name": "python",
   "nbconvert_exporter": "python",
   "pygments_lexer": "ipython3",
   "version": "3.7.7"
  }
 },
 "nbformat": 4,
 "nbformat_minor": 4
}
